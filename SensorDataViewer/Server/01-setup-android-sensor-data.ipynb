{
 "cells": [
  {
   "cell_type": "markdown",
   "metadata": {},
   "source": [
    "# アンドロイドセンサーデータの可視化サーバを構築する"
   ]
  },
  {
   "cell_type": "markdown",
   "metadata": {},
   "source": [
    "## 概要\n",
    "\n",
    "AndroidのセンサーデータをMQTTブローカに送信するアプリ[sinetstream-android-sensor-publisher](https://github.com/nii-gakunin-cloud/sinetstream-android-sensor-publisher)のデータを可視化するサーバの構築手順を示します。"
   ]
  },
  {
   "cell_type": "markdown",
   "metadata": {},
   "source": [
    "### システム構成"
   ]
  },
  {
   "cell_type": "markdown",
   "metadata": {},
   "source": [
    "システム構成を次図に示します。`server`と示されている枠内がこのnotebookで構築する対象になります。\n",
    "\n",
    "![システム構成](img/01-01-components.png)\n",
    "<!--\n",
    "```mermaid\n",
    "flowchart LR\n",
    "  subgraph S1[server]\n",
    "    K[\"Apache Kafka\"]\n",
    "    N[NATS]\n",
    "    DB[(\"PostgreSQL\")]\n",
    "    App[\"Hasura\\nGraphQL Engine\"]\n",
    "    P[\"NGINX\"]\n",
    "    N---|\"NATS Kafka\\nBridge\"|K---|\"Kafka Connect\"|DB---App---P\n",
    "  end\n",
    "  subgraph A[\"Android\"]\n",
    "    PUB[\"sinetstream-android-\\nsensor-publisher\"]\n",
    "  end\n",
    "  PUB==>N\n",
    "  P==>W[\"Web Browser\"]\n",
    "```\n",
    "-->"
   ]
  },
  {
   "cell_type": "markdown",
   "metadata": {},
   "source": [
    "サーバを構成するコンポーネントの簡単な説明を以下に記します。\n",
    "\n",
    "* [NATS](https://nats.io/)\n",
    "  * 軽量メッセージングシステム\n",
    "  * MQTTブローカとして利用する\n",
    "* [Apache Kafka](https://kafka.apache.org/)\n",
    "  * 分散型イベントストリーミングプラットフォーム\n",
    "  * コンポーネント間で統一的なインターフェースによるメッセージ処理を行うために利用する\n",
    "* [PostgreSQL](https://www.postgresql.org/)\n",
    "  * リレーショナルデータベース\n",
    "  * センサーデータの最終的な保管先として利用する\n",
    "  * 長期間にわたるデータを可視化するために[TimescaleDB](https://www.timescale.com/)拡張を利用する\n",
    "* [Hasura](https://hasura.io/)\n",
    "  * GraphQLエンジン\n",
    "  * データベースに保管されているセンサーデータを取得するためのインタフェースとして利用する\n",
    "* [NGINX](https://nginx.org/)\n",
    "  * Webサーバ\n",
    "  * センサーデータを可視化するWebアプリを配信する\n",
    "  \n",
    "また、コンポーネント間でのデータを受け渡すために以下のものを利用します。\n",
    "\n",
    "* [NATS-Kafka Bridge](https://github.com/nats-io/nats-kafka)\n",
    "  * NATSとKafkaブローカの間でメッセージの転送を行う\n",
    "  * NATSで受け取ったセンサーデータをKafkaブローカに転送するために利用する\n",
    "* [Kafka Connect](https://kafka.apache.org/documentation/#connect)\n",
    "  * Kafkaブローカと他コンポーネントの間でデータ転送を行うための枠組み\n",
    "  * Kafkaブローカに送信されたデータをデータベース(PostgreSQL)に保存するために利用する"
   ]
  },
  {
   "cell_type": "markdown",
   "metadata": {},
   "source": [
    "### 前提条件\n",
    "\n",
    "サーバを構築、実行するために必要となる前提条件を示します。\n",
    "\n",
    "* docker, docker compose v2\n",
    "  * サーバを構成するコンテナを実行するために必要となる\n",
    "* Python, [jinja2 cli](https://github.com/mattrobenolt/jinja2-cli)\n",
    "  * サーバを構成する各サービスの設定ファイルなどを生成するために必要となる"
   ]
  },
  {
   "cell_type": "markdown",
   "metadata": {},
   "source": [
    "前提条件を満たしていることを確認します。以下の４つのセルを実行してエラーにならないことを確認して下さい。"
   ]
  },
  {
   "cell_type": "code",
   "execution_count": null,
   "metadata": {},
   "outputs": [],
   "source": [
    "docker version"
   ]
  },
  {
   "cell_type": "code",
   "execution_count": null,
   "metadata": {},
   "outputs": [],
   "source": [
    "docker compose version"
   ]
  },
  {
   "cell_type": "code",
   "execution_count": null,
   "metadata": {},
   "outputs": [],
   "source": [
    "python3 --version"
   ]
  },
  {
   "cell_type": "code",
   "execution_count": null,
   "metadata": {},
   "outputs": [],
   "source": [
    "jinja2 --version"
   ]
  },
  {
   "cell_type": "markdown",
   "metadata": {},
   "source": [
    "## パラメータの指定\n",
    "\n",
    "サーバを構築するために必要となるパラメータを指定します。"
   ]
  },
  {
   "cell_type": "markdown",
   "metadata": {},
   "source": [
    "### 配置場所 \n",
    "\n",
    "サーバを構成する資材を配置するディレクトリを次のセルに指定してください。"
   ]
  },
  {
   "cell_type": "code",
   "execution_count": null,
   "metadata": {
    "tags": []
   },
   "outputs": [],
   "source": [
    "# (例)\n",
    "# target_dir=$HOME/srv/sensor-viewer\n",
    "# target_dir=/srv/sensor-viewer\n",
    "\n",
    "target_dir="
   ]
  },
  {
   "cell_type": "markdown",
   "metadata": {},
   "source": [
    "資材を配置するディレクトリを作成します。"
   ]
  },
  {
   "cell_type": "code",
   "execution_count": null,
   "metadata": {
    "tags": []
   },
   "outputs": [],
   "source": [
    "mkdir -p $target_dir"
   ]
  },
  {
   "cell_type": "markdown",
   "metadata": {},
   "source": [
    "### サーバ構成\n",
    "\n",
    "サーバ構成を指定する設定ファイル`00-config.yml`に、このNotebookで構築するサーバ構成名`android`を追加します。"
   ]
  },
  {
   "cell_type": "markdown",
   "metadata": {},
   "source": [
    "`00-config.yml`の内容を更新するために次のセルを実行してください。"
   ]
  },
  {
   "cell_type": "code",
   "execution_count": null,
   "metadata": {
    "tags": []
   },
   "outputs": [],
   "source": [
    "mkdir -p ${target_dir}/params\n",
    "touch ${target_dir}/params/.vars_config.yml\n",
    "[ ! -f ${target_dir}/params/00-config.yml ] || \\\n",
    "cp ${target_dir}/params/00-config.yml ${target_dir}/params/.vars_config.yml\n",
    "jinja2 \\\n",
    "    -D new_target=android \\\n",
    "    -o ${target_dir}/params/00-config.yml \\\n",
    "    files/template/config/00-config.yml.j2 \\\n",
    "    ${target_dir}/params/.vars_config.yml"
   ]
  },
  {
   "cell_type": "markdown",
   "metadata": {},
   "source": [
    "更新された設定ファイルの内容を表示します。`target`に`android`が追加されたことを確認してください。"
   ]
  },
  {
   "cell_type": "code",
   "execution_count": null,
   "metadata": {
    "tags": []
   },
   "outputs": [],
   "source": [
    "cat ${target_dir}/params/00-config.yml"
   ]
  },
  {
   "cell_type": "markdown",
   "metadata": {},
   "source": [
    "### sinetstream-android-sensor-publisher\n",
    "\n",
    "センサーデータを送信するAndroidアプリに関するパラメータを指定します。"
   ]
  },
  {
   "cell_type": "markdown",
   "metadata": {},
   "source": [
    "センサーデータの送信先となるMQTTのトピック名を指定してください。トピック名は英数字または`-`, `_`のみで構成された文字列として下さい。"
   ]
  },
  {
   "cell_type": "code",
   "execution_count": null,
   "metadata": {
    "tags": []
   },
   "outputs": [],
   "source": [
    "# (例)\n",
    "# android_topic=sensor-sinetstream-android\n",
    "\n",
    "android_topic=sensor-sinetstream-android"
   ]
  },
  {
   "cell_type": "markdown",
   "metadata": {},
   "source": [
    "可視化対象となるPublisherのデフォルト値を指定します。\n",
    "\n",
    "> Publisherの値は構築するサーバに直接関与するパラメータではありません。そのため指定は必須ではありません。ここで指定した値は可視化ウェブサイトにて、どのAndroidアプリから送信されたデータを対象とするかを選択するためのデフォルト値となります。"
   ]
  },
  {
   "cell_type": "code",
   "execution_count": null,
   "metadata": {
    "tags": []
   },
   "outputs": [],
   "source": [
    "# (例)\n",
    "# android_publisher=publisher-001\n",
    "\n",
    "android_publisher=publisher-001"
   ]
  },
  {
   "cell_type": "markdown",
   "metadata": {},
   "source": [
    "指定されたパラメータをファイルに保存します。"
   ]
  },
  {
   "cell_type": "code",
   "execution_count": null,
   "metadata": {
    "tags": []
   },
   "outputs": [],
   "source": [
    "cat > ${target_dir}/params/01-android.yml <<EOF\n",
    "android:\n",
    "  topic:\n",
    "    sensor_data: \"${android_topic:?ERROR: データ送信先となるトピック名が指定されていません}\"\n",
    "  default:\n",
    "    publisher: \"${android_publisher:-publisher-001}\"\n",
    "EOF"
   ]
  },
  {
   "cell_type": "markdown",
   "metadata": {},
   "source": [
    "ファイルの内容を表示します。内容を確認して下さい。"
   ]
  },
  {
   "cell_type": "code",
   "execution_count": null,
   "metadata": {
    "tags": []
   },
   "outputs": [],
   "source": [
    "cat ${target_dir}/params/01-android.yml"
   ]
  },
  {
   "cell_type": "markdown",
   "metadata": {
    "tags": []
   },
   "source": [
    "### NATS\n",
    "\n",
    "MQTTブローカとして利用する[NATS](https://nats.io/)のパラメータを指定します。"
   ]
  },
  {
   "cell_type": "markdown",
   "metadata": {},
   "source": [
    "NATSに関するパラメータが既に設定済みであるかを確認します。次のセルを実行して出力結果が表示された場合は既にNATSに関するパラメータを設定済みです。この節をスキップして次節に進んでください。"
   ]
  },
  {
   "cell_type": "code",
   "execution_count": null,
   "metadata": {
    "tags": []
   },
   "outputs": [],
   "source": [
    "[ ! -f ${target_dir}/params/01-nats.yml ] || \\\n",
    "cat ${target_dir}/params/01-nats.yml"
   ]
  },
  {
   "cell_type": "markdown",
   "metadata": {},
   "source": [
    "MQTTブローカのポート番号を指定して下さい。"
   ]
  },
  {
   "cell_type": "code",
   "execution_count": null,
   "metadata": {
    "tags": []
   },
   "outputs": [],
   "source": [
    "# (例)\n",
    "# mqtt_port=1883\n",
    "\n",
    "mqtt_port=1883"
   ]
  },
  {
   "cell_type": "markdown",
   "metadata": {},
   "source": [
    "指定されたパラメータをファイルに保存します。既に他のnotebookでNATSに関するパラメータが保存されている場合はその値が優先されます。"
   ]
  },
  {
   "cell_type": "code",
   "execution_count": null,
   "metadata": {},
   "outputs": [],
   "source": [
    "[ -f ${target_dir}/params/01-nats.yml ] || \\\n",
    "cat > ${target_dir}/params/01-nats.yml <<EOF\n",
    "nats:\n",
    "  mqtt:\n",
    "    port: ${mqtt_port}\n",
    "EOF"
   ]
  },
  {
   "cell_type": "markdown",
   "metadata": {},
   "source": [
    "ファイルの内容を表示します。内容を確認して下さい。"
   ]
  },
  {
   "cell_type": "code",
   "execution_count": null,
   "metadata": {
    "tags": []
   },
   "outputs": [],
   "source": [
    "cat ${target_dir}/params/01-nats.yml"
   ]
  },
  {
   "cell_type": "markdown",
   "metadata": {
    "tags": []
   },
   "source": [
    "### NGINX\n",
    "\n",
    "送信されたセンサーデータを可視化して表示するwebサーバ(NGINX)に関するパラメータを指定します。"
   ]
  },
  {
   "cell_type": "markdown",
   "metadata": {},
   "source": [
    "NGINXに関するパラメータが既に設定済みであるかを確認します。次のセルを実行して出力結果が表示された場合は既にNGINXに関するパラメータを設定済みです。この節をスキップして次節に進んでください。"
   ]
  },
  {
   "cell_type": "code",
   "execution_count": null,
   "metadata": {},
   "outputs": [],
   "source": [
    "[ ! -f ${target_dir}/params/01-www.yml ] || \\\n",
    "cat ${target_dir}/params/01-www.yml"
   ]
  },
  {
   "cell_type": "markdown",
   "metadata": {},
   "source": [
    "webサーバのプロトコルを指定します。`http`または`https`のどちらかの値を指定して下さい。"
   ]
  },
  {
   "cell_type": "code",
   "execution_count": null,
   "metadata": {
    "tags": []
   },
   "outputs": [],
   "source": [
    "# (例)\n",
    "# www_protocol=http\n",
    "# www_protocol=https\n",
    "\n",
    "www_protocol="
   ]
  },
  {
   "cell_type": "markdown",
   "metadata": {},
   "source": [
    "#### サーバ証明書などの指定\n",
    "\n",
    "webサーバをhttpsで公開する場合はサーバ証明書と秘密鍵などを指定する必要があります。\n",
    "\n",
    "> `www_protocol`の値に`http`を指定した場合は、この節をスキップして次の「パラメータの保存」からの手順を進めて下さい。"
   ]
  },
  {
   "cell_type": "markdown",
   "metadata": {},
   "source": [
    "webサーバのホスト名を指定してください。サーバ証明書の内容と一致するホスト名を指定してください。"
   ]
  },
  {
   "cell_type": "code",
   "execution_count": null,
   "metadata": {
    "tags": []
   },
   "outputs": [],
   "source": [
    "# (例)\n",
    "# hostname=www.example.org\n",
    "\n",
    "hostname="
   ]
  },
  {
   "cell_type": "markdown",
   "metadata": {},
   "source": [
    "サーバ証明書のパスを指定してください。"
   ]
  },
  {
   "cell_type": "code",
   "execution_count": null,
   "metadata": {
    "tags": []
   },
   "outputs": [],
   "source": [
    "# (例)\n",
    "# cert_file_path=certs/server.crt\n",
    "\n",
    "cert_file_path="
   ]
  },
  {
   "cell_type": "markdown",
   "metadata": {},
   "source": [
    "サーバ証明書の秘密鍵のパスを指定してください。"
   ]
  },
  {
   "cell_type": "code",
   "execution_count": null,
   "metadata": {},
   "outputs": [],
   "source": [
    "# (例)\n",
    "# cert_key_path=certs/server.key\n",
    "\n",
    "cert_key_path="
   ]
  },
  {
   "cell_type": "markdown",
   "metadata": {},
   "source": [
    "#### パラメータの保存\n",
    "\n",
    "指定されたパラメータをファイルに保存します。"
   ]
  },
  {
   "cell_type": "markdown",
   "metadata": {},
   "source": [
    "既に他のnotebookでwebサーバに関するパラメータが保存されている場合はその値が優先され、このnotebookで指定した値は保存されません。"
   ]
  },
  {
   "cell_type": "code",
   "execution_count": null,
   "metadata": {
    "tags": []
   },
   "outputs": [],
   "source": [
    "[ -f ${target_dir}/params/01-www.yml ] || \\\n",
    "cat > ${target_dir}/params/01-www.yml <<EOF\n",
    "www:\n",
    "  hostname: ${hostname:-localhost}\n",
    "  protocol: $www_protocol\n",
    "EOF"
   ]
  },
  {
   "cell_type": "markdown",
   "metadata": {},
   "source": [
    "ファイルの内容を表示します。内容を確認して下さい。"
   ]
  },
  {
   "cell_type": "code",
   "execution_count": null,
   "metadata": {
    "tags": []
   },
   "outputs": [],
   "source": [
    "cat ${target_dir}/params/01-www.yml"
   ]
  },
  {
   "cell_type": "markdown",
   "metadata": {},
   "source": [
    "### PostgreSQL\n",
    "\n",
    "センサーデータを保存するデータベースのパラメータを指定します。"
   ]
  },
  {
   "cell_type": "markdown",
   "metadata": {},
   "source": [
    "PostgreSQLに関するパラメータが既に設定済みであるかを確認します。次のセルを実行して出力結果が表示された場合は既にPostgreSQLに関するパラメータを設定済みです。この節をスキップして次節に進んでください。"
   ]
  },
  {
   "cell_type": "code",
   "execution_count": null,
   "metadata": {},
   "outputs": [],
   "source": [
    "if [ -f ${target_dir}/params/01-postgres.yml ]; then\n",
    "    cat ${target_dir}/params/01-postgres.yml\n",
    "    POSTGRES_DB=$(grep database ${target_dir}/params/01-postgres.yml | awk '{print $2}')\n",
    "    POSTGRES_USER=$(grep user ${target_dir}/params/01-postgres.yml | awk '{print $2}')\n",
    "    POSTGRES_PASSWORD=$(grep password ${target_dir}/params/01-postgres.yml | awk '{print $2}')\n",
    "fi"
   ]
  },
  {
   "cell_type": "markdown",
   "metadata": {},
   "source": [
    "データベース名を指定してください。"
   ]
  },
  {
   "cell_type": "code",
   "execution_count": null,
   "metadata": {
    "tags": []
   },
   "outputs": [],
   "source": [
    "# (例)\n",
    "# POSTGRES_DB=sensor\n",
    "\n",
    "POSTGRES_DB=sensor"
   ]
  },
  {
   "cell_type": "markdown",
   "metadata": {},
   "source": [
    "ユーザ名を指定してください。"
   ]
  },
  {
   "cell_type": "code",
   "execution_count": null,
   "metadata": {},
   "outputs": [],
   "source": [
    "# (例)\n",
    "# POSTGRES_USER=sensor\n",
    "\n",
    "POSTGRES_USER=sensor"
   ]
  },
  {
   "cell_type": "markdown",
   "metadata": {},
   "source": [
    "パスワードを指定してください。"
   ]
  },
  {
   "cell_type": "code",
   "execution_count": null,
   "metadata": {},
   "outputs": [],
   "source": [
    "# (例)\n",
    "# POSTGRES_PASSWORD=db-pass-00\n",
    "\n",
    "POSTGRES_PASSWORD="
   ]
  },
  {
   "cell_type": "markdown",
   "metadata": {},
   "source": [
    "各パラメータに値が設定されていることを確認します。次のセルを実行してエラーにならないことを確認して下さい。"
   ]
  },
  {
   "cell_type": "code",
   "execution_count": null,
   "metadata": {
    "tags": []
   },
   "outputs": [],
   "source": [
    ": ${POSTGRES_DB:?ERROR: データベース名が指定されていません}\n",
    ": ${POSTGRES_USER:?ERROR: データベースのユーザ名が指定されていません}\n",
    ": ${POSTGRES_PASSWORD:?ERROR: データベースのパスワードが指定されていません}"
   ]
  },
  {
   "cell_type": "markdown",
   "metadata": {},
   "source": [
    "指定されたパラメータをファイルに保存します。他のnotebookなどにより既にファイルに保存されたパラメータが存在している場合はその値を優先します。既存のパラメータファイルが存在している場合は既に実行中のデータベースコンテナが存在しており、最初に指定したパラメータでデータベースが構築されていることが想定されるためです。"
   ]
  },
  {
   "cell_type": "code",
   "execution_count": null,
   "metadata": {
    "tags": []
   },
   "outputs": [],
   "source": [
    "[ -f ${target_dir}/params/01-postgres.yml ] || \\\n",
    "cat > ${target_dir}/params/01-postgres.yml <<EOF\n",
    "postgres:\n",
    "  database: ${POSTGRES_DB}\n",
    "  user: ${POSTGRES_USER}\n",
    "  password: ${POSTGRES_PASSWORD}\n",
    "  url: postgres://${POSTGRES_USER}:$(\n",
    "      python -c \"import urllib.parse; print(urllib.parse.quote('$POSTGRES_PASSWORD'))\"\n",
    "  )@postgres:5432/${POSTGRES_DB}?sslmode=disable\n",
    "EOF"
   ]
  },
  {
   "cell_type": "markdown",
   "metadata": {},
   "source": [
    "ファイルの内容を表示します。内容を確認して下さい。"
   ]
  },
  {
   "cell_type": "code",
   "execution_count": null,
   "metadata": {
    "tags": []
   },
   "outputs": [],
   "source": [
    "cat ${target_dir}/params/01-postgres.yml"
   ]
  },
  {
   "cell_type": "markdown",
   "metadata": {},
   "source": [
    "### Kafka\n",
    "\n",
    "kafkaのクラスタIDを生成します。"
   ]
  },
  {
   "cell_type": "code",
   "execution_count": null,
   "metadata": {},
   "outputs": [],
   "source": [
    "cluster_id=$(docker run -q --rm apache/kafka:latest /opt/kafka/bin/kafka-storage.sh random-uuid)"
   ]
  },
  {
   "cell_type": "markdown",
   "metadata": {},
   "source": [
    "生成したクラスタIDをファイルに保存します。既に他のnotebookでパラメータが保存されている場合はその値が優先されます。"
   ]
  },
  {
   "cell_type": "code",
   "execution_count": null,
   "metadata": {},
   "outputs": [],
   "source": [
    "[ -f ${target_dir}/params/01-kraft.yml ] || \\\n",
    "cat > ${target_dir}/params/01-kraft.yml <<EOF\n",
    "kraft:\n",
    "  cluster_id: ${cluster_id}\n",
    "EOF"
   ]
  },
  {
   "cell_type": "markdown",
   "metadata": {},
   "source": [
    "ファイルの内容を表示します。内容を確認して下さい。"
   ]
  },
  {
   "cell_type": "code",
   "execution_count": null,
   "metadata": {},
   "outputs": [],
   "source": [
    "cat ${target_dir}/params/01-kraft.yml"
   ]
  },
  {
   "cell_type": "markdown",
   "metadata": {},
   "source": [
    "## 資材の配置\n",
    "\n",
    "サーバを構成する資材となるファイルの配置を行います。"
   ]
  },
  {
   "cell_type": "markdown",
   "metadata": {},
   "source": [
    "### NATS\n",
    "\n",
    "NATSに関する設定ファイルを配置します。"
   ]
  },
  {
   "cell_type": "markdown",
   "metadata": {},
   "source": [
    "NATSサーバの設定ファイルを配置します。"
   ]
  },
  {
   "cell_type": "code",
   "execution_count": null,
   "metadata": {
    "tags": []
   },
   "outputs": [],
   "source": [
    "mkdir -p ${target_dir}/conf/nats/\n",
    "cat ${target_dir}/params/*.yml | \\\n",
    "jinja2 --strict \\\n",
    "    -o ${target_dir}/conf/nats/nats-server.conf \\\n",
    "    files/template/nats/nats-server.conf.j2"
   ]
  },
  {
   "cell_type": "markdown",
   "metadata": {},
   "source": [
    "配置した設定ファイルの内容を表示します。"
   ]
  },
  {
   "cell_type": "code",
   "execution_count": null,
   "metadata": {
    "tags": []
   },
   "outputs": [],
   "source": [
    "cat ${target_dir}/conf/nats/nats-server.conf"
   ]
  },
  {
   "cell_type": "markdown",
   "metadata": {},
   "source": [
    "NATSで受け取ったデータをKafkaブローカに転送する[NATS-Kafka Bridge](https://github.com/nats-io/nats-kafka)の設定ファイルを配置します。"
   ]
  },
  {
   "cell_type": "code",
   "execution_count": null,
   "metadata": {
    "tags": []
   },
   "outputs": [],
   "source": [
    "cat ${target_dir}/params/*.yml | \\\n",
    "jinja2 --strict \\\n",
    "    -o ${target_dir}/conf/nats/kafkabridge.conf \\\n",
    "    files/template/nats/kafkabridge.conf.j2"
   ]
  },
  {
   "cell_type": "markdown",
   "metadata": {},
   "source": [
    "配置した設定ファイルの内容を表示します。"
   ]
  },
  {
   "cell_type": "code",
   "execution_count": null,
   "metadata": {},
   "outputs": [],
   "source": [
    "cat ${target_dir}/conf/nats/kafkabridge.conf"
   ]
  },
  {
   "cell_type": "markdown",
   "metadata": {},
   "source": [
    "### NGINX\n",
    "\n",
    "Webサーバとして利用するNGINXの設定ファイルなどを配置します。"
   ]
  },
  {
   "cell_type": "markdown",
   "metadata": {},
   "source": [
    "NGINXの設定ファイルを配置します。"
   ]
  },
  {
   "cell_type": "code",
   "execution_count": null,
   "metadata": {
    "tags": []
   },
   "outputs": [],
   "source": [
    "mkdir -p ${target_dir}/conf/nginx\n",
    "\n",
    "cat ${target_dir}/params/*.yml | \\\n",
    "jinja2 --strict \\\n",
    "    -o ${target_dir}/conf/nginx/default.conf \\\n",
    "    files/template/nginx/default.conf.j2 "
   ]
  },
  {
   "cell_type": "markdown",
   "metadata": {},
   "source": [
    "配置した設定ファイルの内容を表示します。"
   ]
  },
  {
   "cell_type": "code",
   "execution_count": null,
   "metadata": {
    "tags": []
   },
   "outputs": [],
   "source": [
    "cat ${target_dir}/conf/nginx/default.conf"
   ]
  },
  {
   "cell_type": "markdown",
   "metadata": {},
   "source": [
    "NGINXをHTTPSで公開する場合に必要となるサーバ証明書と秘密鍵を配置します。サーバ証明書とその秘密鍵を指定している場合のみ、ファイルの配置が行われます。"
   ]
  },
  {
   "cell_type": "code",
   "execution_count": null,
   "metadata": {
    "tags": []
   },
   "outputs": [],
   "source": [
    "mkdir -p ${target_dir}/secrets\n",
    "[ -z \"$cert_file_path\" ] || cp $cert_file_path ${target_dir}/secrets/CERT_FILE\n",
    "[ -z \"$cert_key_path\" ] || cp $cert_key_path ${target_dir}/secrets/CERT_KEY"
   ]
  },
  {
   "cell_type": "markdown",
   "metadata": {
    "tags": []
   },
   "source": [
    "### PostgreSQL\n",
    "\n",
    "データベースに関する設定ファイルなどを配置します。"
   ]
  },
  {
   "cell_type": "markdown",
   "metadata": {},
   "source": [
    "データベース名、ユーザ名、パスワードなどを記録したファイルを配置します。これらのパラメータは[docker secret](https://docs.docker.com/engine/swarm/secrets/)として管理します。既に設定済みのファイルが存在している場合は既存のファイルが優先され、ファイルへの書き込みは行いません。"
   ]
  },
  {
   "cell_type": "code",
   "execution_count": null,
   "metadata": {
    "tags": []
   },
   "outputs": [],
   "source": [
    "mkdir -p ${target_dir}/secrets\n",
    "\n",
    "[ -f ${target_dir}/secrets/POSTGRES_DB ] || \\\n",
    "cat > ${target_dir}/secrets/POSTGRES_DB <<EOF\n",
    "$POSTGRES_DB\n",
    "EOF\n",
    "\n",
    "[ -f ${target_dir}/secrets/POSTGRES_USER ] || \\\n",
    "cat > ${target_dir}/secrets/POSTGRES_USER <<EOF\n",
    "$POSTGRES_USER\n",
    "EOF\n",
    "\n",
    "[ -f ${target_dir}/secrets/POSTGRES_PASSWORD ] || \\\n",
    "cat > ${target_dir}/secrets/POSTGRES_PASSWORD <<EOF\n",
    "$POSTGRES_PASSWORD\n",
    "EOF"
   ]
  },
  {
   "cell_type": "markdown",
   "metadata": {},
   "source": [
    "配置したファイルの内容を表示します。"
   ]
  },
  {
   "cell_type": "code",
   "execution_count": null,
   "metadata": {},
   "outputs": [],
   "source": [
    "cat ${target_dir}/secrets/POSTGRES_DB\n",
    "cat ${target_dir}/secrets/POSTGRES_USER\n",
    "cat ${target_dir}/secrets/POSTGRES_PASSWORD"
   ]
  },
  {
   "cell_type": "markdown",
   "metadata": {},
   "source": [
    "データベースの初期投入SQLファイルを配置します。センサーデータを記録するテーブルやビューを定義するSQLになっています。"
   ]
  },
  {
   "cell_type": "code",
   "execution_count": null,
   "metadata": {
    "tags": []
   },
   "outputs": [],
   "source": [
    "mkdir -p ${target_dir}/init/sql\n",
    "\n",
    "cat ${target_dir}/params/*.yml | \\\n",
    "jinja2 --strict \\\n",
    "    -o ${target_dir}/params/.vars_sql.yml \\\n",
    "    files/template/sql/vars_sql.yml.j2\n",
    "\n",
    "cat ${target_dir}/params/.vars_sql.yml ${target_dir}/params/00-config.yml | \\\n",
    "jinja2 --strict \\\n",
    "    -o ${target_dir}/init/sql/create_table.sql \\\n",
    "    files/template/sql/create_table.sql.j2"
   ]
  },
  {
   "cell_type": "markdown",
   "metadata": {},
   "source": [
    "配置したSQLファイルの内容を確認します。次のセルでは配置したファイルの先頭部分のみを表示しています。必要に応じて`| head`の部分をコメントアウトしてセルを実行して下さい。"
   ]
  },
  {
   "cell_type": "code",
   "execution_count": null,
   "metadata": {
    "tags": []
   },
   "outputs": [],
   "source": [
    "cat ${target_dir}/init/sql/create_table.sql | head"
   ]
  },
  {
   "cell_type": "markdown",
   "metadata": {},
   "source": [
    "### Hasura\n",
    "\n",
    "GraphQLサーバとして利用するHasuraの設定ファイルを配置します。"
   ]
  },
  {
   "cell_type": "code",
   "execution_count": null,
   "metadata": {
    "tags": []
   },
   "outputs": [],
   "source": [
    "mkdir -p ${target_dir}/init/hasura\n",
    "\n",
    "cp -a files/template/hasura/metadata/* \\\n",
    "    ${target_dir}/init/hasura/\n",
    "\n",
    "jinja2 --strict \\\n",
    "    -o ${target_dir}/init/hasura/databases/sensor-data/tables/tables.yaml \\\n",
    "    files/template/hasura/tables.yaml.j2 \\\n",
    "    ${target_dir}/params/00-config.yml"
   ]
  },
  {
   "cell_type": "markdown",
   "metadata": {
    "tags": []
   },
   "source": [
    "### docker-compose.yml\n",
    "\n",
    "サーバを構成するコンテナに関する設定ファイルを配置します。"
   ]
  },
  {
   "cell_type": "markdown",
   "metadata": {},
   "source": [
    "`docker-compose.yml`を配置します。"
   ]
  },
  {
   "cell_type": "code",
   "execution_count": null,
   "metadata": {
    "tags": []
   },
   "outputs": [],
   "source": [
    "cat ${target_dir}/params/*.yml | \\\n",
    "jinja2 --strict \\\n",
    "    -o ${target_dir}/docker-compose.yml \\\n",
    "    files/template/docker/docker-compose.yml.j2"
   ]
  },
  {
   "cell_type": "markdown",
   "metadata": {},
   "source": [
    "配置した設定ファイルの内容を表示します。"
   ]
  },
  {
   "cell_type": "code",
   "execution_count": null,
   "metadata": {
    "tags": []
   },
   "outputs": [],
   "source": [
    "cat ${target_dir}/docker-compose.yml"
   ]
  },
  {
   "cell_type": "markdown",
   "metadata": {},
   "source": [
    "`docker compose`の環境変数を記した`.env`ファイルを作成します。"
   ]
  },
  {
   "cell_type": "code",
   "execution_count": null,
   "metadata": {
    "tags": []
   },
   "outputs": [],
   "source": [
    "cat ${target_dir}/params/*.yml | \\\n",
    "jinja2 --strict \\\n",
    "    -o ${target_dir}/.env \\\n",
    "    -D uid=$(id -u) -D gid=$(id -g) \\\n",
    "    files/template/docker/dot_env.j2"
   ]
  },
  {
   "cell_type": "markdown",
   "metadata": {},
   "source": [
    "配置したファイルの内容を表示します。"
   ]
  },
  {
   "cell_type": "code",
   "execution_count": null,
   "metadata": {
    "tags": []
   },
   "outputs": [],
   "source": [
    "cat ${target_dir}/.env"
   ]
  },
  {
   "cell_type": "markdown",
   "metadata": {},
   "source": [
    "必要となるディレクトリを作成します。"
   ]
  },
  {
   "cell_type": "code",
   "execution_count": null,
   "metadata": {},
   "outputs": [],
   "source": [
    "mkdir -p ${target_dir}/data/postgres"
   ]
  },
  {
   "cell_type": "markdown",
   "metadata": {
    "tags": []
   },
   "source": [
    "## コンテナの起動\n",
    "\n",
    "サーバを構成するコンテナを起動します。"
   ]
  },
  {
   "cell_type": "markdown",
   "metadata": {},
   "source": [
    "利用するコンテナイメージを取得します。"
   ]
  },
  {
   "cell_type": "code",
   "execution_count": null,
   "metadata": {
    "tags": []
   },
   "outputs": [],
   "source": [
    "docker compose --project-directory ${target_dir} pull -q"
   ]
  },
  {
   "cell_type": "markdown",
   "metadata": {},
   "source": [
    "コンテナを起動します。notebook環境で`docker compose up`を実行すると処理中の表示が煩雑なため、次のセルでは全ての出力結果を破棄しています。エラーや警告表示を確認する必要がある場合はnotebook環境ではなく、別窓でターミナルなどを開いて`docker compose up`コマンドを実行して下さい。"
   ]
  },
  {
   "cell_type": "code",
   "execution_count": null,
   "metadata": {
    "tags": []
   },
   "outputs": [],
   "source": [
    "docker compose --project-directory ${target_dir} up -d --remove-orphans >& /dev/null"
   ]
  },
  {
   "cell_type": "markdown",
   "metadata": {},
   "source": [
    "コンテナの実行状況を確認します。"
   ]
  },
  {
   "cell_type": "code",
   "execution_count": null,
   "metadata": {
    "tags": []
   },
   "outputs": [],
   "source": [
    "docker compose --project-directory ${target_dir} ps"
   ]
  },
  {
   "cell_type": "markdown",
   "metadata": {},
   "source": [
    "## 初期設定\n",
    "\n",
    "起動したコンテナに対して初期設定を行います。"
   ]
  },
  {
   "cell_type": "markdown",
   "metadata": {},
   "source": [
    "### PostgreSQL\n",
    "\n",
    "テーブル定義やビュー定義などを記述したSQLファイルを実行します。"
   ]
  },
  {
   "cell_type": "code",
   "execution_count": null,
   "metadata": {
    "tags": []
   },
   "outputs": [],
   "source": [
    "docker compose --project-directory ${target_dir} exec postgres \\\n",
    "    psql -U $POSTGRES_USER -d $POSTGRES_DB \\\n",
    "    -f /docker-entrypoint-initdb.d/020_create_table.sql"
   ]
  },
  {
   "cell_type": "markdown",
   "metadata": {},
   "source": [
    "確認のためテーブル、ビューなどのリレーションの一覧を表示してみます。"
   ]
  },
  {
   "cell_type": "code",
   "execution_count": null,
   "metadata": {},
   "outputs": [],
   "source": [
    "docker compose --project-directory ${target_dir} exec postgres \\\n",
    "    psql -U $POSTGRES_USER -d $POSTGRES_DB -c \"\\pset pager off\" -c \"\\d\""
   ]
  },
  {
   "cell_type": "markdown",
   "metadata": {},
   "source": [
    "テーブル定義の変更を反映するためにgraphqlコンテナを再起動します。"
   ]
  },
  {
   "cell_type": "code",
   "execution_count": null,
   "metadata": {},
   "outputs": [],
   "source": [
    "docker compose --project-directory ${target_dir} restart graphql >& /dev/null"
   ]
  },
  {
   "cell_type": "markdown",
   "metadata": {
    "tags": []
   },
   "source": [
    "### Kafka Connect\n",
    "\n",
    "NATS(MQTTブローカ)を経由してKafkaブローカに送信されたセンサーデータは、Kafka Connectを利用してKafkaブローカからデータベース(PostgreSQL)に保存します。このためのKafka Connectの設定を行います。"
   ]
  },
  {
   "cell_type": "code",
   "execution_count": null,
   "metadata": {
    "tags": []
   },
   "outputs": [],
   "source": [
    "env POSTGRES_DB=$POSTGRES_DB POSTGRES_USER=$POSTGRES_USER POSTGRES_PASSWORD=$POSTGRES_PASSWORD \\\n",
    "files/setup/kafka-connect/setup-sink-psql.sh -t $android_topic -n sink-psql-android"
   ]
  },
  {
   "cell_type": "markdown",
   "metadata": {},
   "source": [
    "Kfaka Connectの登録状況を表示します。エラーが表示されないことを確認して下さい。`jq`コマンドが利用できない場合は、次のセルの末尾の`| jq .`の部分をコメントアウトして実行して下さい。"
   ]
  },
  {
   "cell_type": "code",
   "execution_count": null,
   "metadata": {},
   "outputs": [],
   "source": [
    "curl -s http://localhost:8083/connectors/sink-psql-android | jq ."
   ]
  },
  {
   "cell_type": "markdown",
   "metadata": {},
   "source": [
    "## センサーデータの可視化結果の表示\n",
    "\n",
    "構築したwebサーバにアクセスして可視化結果を表示してみます。次のセルを実行すると表示されるアドレスにアクセスして下さい。"
   ]
  },
  {
   "cell_type": "code",
   "execution_count": null,
   "metadata": {},
   "outputs": [],
   "source": [
    "echo \"${www_protocol}://${hostname:-localhost}\""
   ]
  },
  {
   "cell_type": "markdown",
   "metadata": {},
   "source": [
    "上のセルの実行結果に表示されたアドレスに初めてアクセスすると下図のような設定画面が表示されます。\n",
    "\n",
    "> 既に初回設定を済ませている場合はグラフ表示画面が表示されます。\n",
    "\n",
    "![viewer初期画面](img/viewer-001.png)\n",
    "\n",
    "設定画面で直接各項目を入力することもできますが、サーバ構築時に登録されたデフォルト設定をダウンロードすることもできます。\n",
    "\n",
    "デフォルト設定をダウンロードする場合は上図の赤丸で示したアイコンを選択して下さい。次図のような画面が表示されます。ドロップダウンリストによりサーバ側に登録された設定内容を選択することができます。初回設定では、サーバ構築時に登録された`default`という設定内容のみが存在しています。\n",
    "\n",
    "![viewerダウンロード画面](img/viewer-002.png)\n",
    "\n",
    "ドロップダウンリストで`default`を選択し、画面下部に表示されている`Apply`ボタンをクリックして下さい。次図に示すようにサーバ側に登録されている内容が設定画面に取り込まれます。\n",
    "\n",
    "![viewer設定画面](img/viewer-003.png)\n",
    "\n",
    "設定画面の`name`欄に設定名を入力して画面下部の`Save`ボタンをクリックすることで設定内容がWebブラウザに保存されます。その後、次図のようなセンサーデータを可視化する画面が表示されます。\n",
    "\n",
    "![viewer可視化画面](img/viewer-004.png)"
   ]
  },
  {
   "attachments": {},
   "cell_type": "markdown",
   "metadata": {},
   "source": [
    "## 送信側の環境構築\n",
    "\n",
    "センサーデータを送信するAndroid側の設定手順については[11-setup-android.md](../Sensor/Android/11-setup-android.md)を参照して下さい。"
   ]
  }
 ],
 "metadata": {
  "kernelspec": {
   "display_name": "Bash",
   "language": "bash",
   "name": "bash"
  },
  "language_info": {
   "codemirror_mode": "shell",
   "file_extension": ".sh",
   "mimetype": "text/x-sh",
   "name": "bash"
  },
  "toc-autonumbering": true
 },
 "nbformat": 4,
 "nbformat_minor": 4
}
