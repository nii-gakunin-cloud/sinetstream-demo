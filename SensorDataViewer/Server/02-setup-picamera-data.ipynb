{
 "cells": [
  {
   "cell_type": "markdown",
   "metadata": {},
   "source": [
    "# Raspberry Pi Cameraのデータを可視化するサーバを構築する"
   ]
  },
  {
   "cell_type": "markdown",
   "metadata": {},
   "source": [
    "## 概要\n",
    "\n",
    "SINETStreamを利用してRaspberry Piのカメラ画像をKafkaブローカに送信するコンテナを[GitHub](https://github.com/nii-gakunin-cloud/sinetstream-demo/tree/main/VideoStreaming/Sensor/docker)で公開しています。このコンテナから送信されたカメラ画像を可視化するサーバの構築手順を示します。"
   ]
  },
  {
   "cell_type": "markdown",
   "metadata": {},
   "source": [
    "### システム構成"
   ]
  },
  {
   "cell_type": "markdown",
   "metadata": {},
   "source": [
    "システム構成を次図に示します。`server`と示されている枠内がこのnotebookで構築する対象になります。\n",
    "\n",
    "![システム構成](img/02-01-components.png)\n",
    "<!--\n",
    "```mermaid\n",
    "flowchart LR\n",
    "  subgraph S1[server]\n",
    "    subgraph K[\"Apache Kafka\"]\n",
    "      TI([\"camera topic\"])\n",
    "      TO([\"object list topic\"])\n",
    "    end\n",
    "    S3[(\"Object Storage\\nMinIO\")]\n",
    "    DB[(\"PostgreSQL\")]\n",
    "    App[\"Hasura\\nGraphQL Engine\"]\n",
    "    TG[\"Thumbnail\\nGenerator\"]\n",
    "    P[\"NGINX\"]\n",
    "\n",
    "    TI-..->|\"timestamp, etag\"|DB----App-..->|\"object name,\\ntimestamp\"|P\n",
    "    TI==>|\"image\"|S3==>|image|P\n",
    "    S3-.->|\"object name,\\netag\"|DB-.->|\"object name\"|TO-.->TG-.->S3\n",
    "  end\n",
    "  subgraph R[\"Raspberry Pi\"]\n",
    "    C([\"Camera\"])\n",
    "    CC[\"PiCamera\\nContainer\"]\n",
    "    C---CC-..->TI\n",
    "  end\n",
    "  P-..->W[\"Web Browser\"]\n",
    "```\n",
    "-->"
   ]
  },
  {
   "cell_type": "markdown",
   "metadata": {},
   "source": [
    "サーバを構成するコンポーネントの簡単な説明を以下に記します。\n",
    "\n",
    "* [Apache Kafka](https://kafka.apache.org/)\n",
    "  * 分散型イベントストリーミングプラットフォーム\n",
    "  * コンポーネント間で統一的なインターフェースによるメッセージ処理を行うために利用する\n",
    "* [MinIO](https://min.io/)\n",
    "  * S3互換のオブジェクトストレージ\n",
    "  * カメラ画像の保存先として利用する\n",
    "* [PostgreSQL](https://www.postgresql.org/)\n",
    "  * リレーショナルデータベース\n",
    "  * カメラ画像メタデータなどの保管先として利用する\n",
    "* [Hasura](https://hasura.io/)\n",
    "  * GraphQLエンジン\n",
    "  * データベースに保管されているカメラ画像のメタデータなどを取得、検索するためのインタフェースとして利用する\n",
    "* [NGINX](https://nginx.org/)\n",
    "  * Webサーバ\n",
    "  * カメラ画像データを可視化するWebアプリを配信する\n",
    "  \n",
    "また、コンポーネント間でのデータを受け渡すために以下のものを利用します。\n",
    "\n",
    "* [Kafka Connect](https://kafka.apache.org/documentation/#connect)\n",
    "  * Kafkaブローカと他コンポーネントの間でデータ転送を行うための枠組み\n",
    "  * Kafkaブローカとデータをデータベース、オブジェクトストレージの間でデータを転送するために利用する"
   ]
  },
  {
   "cell_type": "markdown",
   "metadata": {},
   "source": [
    "### 前提条件\n",
    "\n",
    "サーバを構築、実行するために必要となる前提条件を示します。\n",
    "\n",
    "* docker, docker compose v2\n",
    "  * サーバを構成するコンテナを実行するために必要となる\n",
    "* Python, [jinja2 cli](https://github.com/mattrobenolt/jinja2-cli)\n",
    "  * サーバを構成する各サービスの設定ファイルなどを生成するために必要となる"
   ]
  },
  {
   "cell_type": "markdown",
   "metadata": {},
   "source": [
    "前提条件を満たしていることを確認します。以下の４つのセルを実行してエラーにならないことを確認して下さい。"
   ]
  },
  {
   "cell_type": "code",
   "execution_count": null,
   "metadata": {},
   "outputs": [],
   "source": [
    "docker version"
   ]
  },
  {
   "cell_type": "code",
   "execution_count": null,
   "metadata": {
    "tags": []
   },
   "outputs": [],
   "source": [
    "docker compose version"
   ]
  },
  {
   "cell_type": "code",
   "execution_count": null,
   "metadata": {
    "tags": []
   },
   "outputs": [],
   "source": [
    "python3 --version"
   ]
  },
  {
   "cell_type": "code",
   "execution_count": null,
   "metadata": {
    "tags": []
   },
   "outputs": [],
   "source": [
    "jinja2 --version"
   ]
  },
  {
   "cell_type": "markdown",
   "metadata": {},
   "source": [
    "## パラメータの指定\n",
    "\n",
    "サーバを構築するために必要となるパラメータを指定します。"
   ]
  },
  {
   "cell_type": "markdown",
   "metadata": {},
   "source": [
    "### 配置場所 \n",
    "\n",
    "サーバを構成する資材を配置するディレクトリを次のセルに指定してください。"
   ]
  },
  {
   "cell_type": "code",
   "execution_count": null,
   "metadata": {
    "tags": []
   },
   "outputs": [],
   "source": [
    "# (例)\n",
    "# target_dir=$HOME/srv/sensor-viewer\n",
    "# target_dir=/srv/sensor-viewer\n",
    "\n",
    "target_dir="
   ]
  },
  {
   "cell_type": "markdown",
   "metadata": {},
   "source": [
    "資材を配置するディレクトリを作成します。"
   ]
  },
  {
   "cell_type": "code",
   "execution_count": null,
   "metadata": {
    "tags": []
   },
   "outputs": [],
   "source": [
    "mkdir -p $target_dir"
   ]
  },
  {
   "cell_type": "markdown",
   "metadata": {},
   "source": [
    "### サーバ構成\n",
    "\n",
    "サーバ構成を指定する設定ファイル`00-config.yml`に、このNotebookで構築するサーバ構成名`picamera`を追加します。"
   ]
  },
  {
   "cell_type": "markdown",
   "metadata": {},
   "source": [
    "`00-config.yml`の内容を更新するために次のセルを実行してください。"
   ]
  },
  {
   "cell_type": "code",
   "execution_count": null,
   "metadata": {
    "tags": []
   },
   "outputs": [],
   "source": [
    "mkdir -p ${target_dir}/params\n",
    "touch ${target_dir}/params/.vars_config.yml\n",
    "[ ! -f ${target_dir}/params/00-config.yml ] || \\\n",
    "cp ${target_dir}/params/00-config.yml ${target_dir}/params/.vars_config.yml\n",
    "jinja2 \\\n",
    "    -D new_target=picamera \\\n",
    "    -o ${target_dir}/params/00-config.yml \\\n",
    "    files/template/config/00-config.yml.j2 \\\n",
    "    ${target_dir}/params/.vars_config.yml"
   ]
  },
  {
   "cell_type": "markdown",
   "metadata": {},
   "source": [
    "更新された設定ファイルの内容を表示します。`target`に`picamera`が追加されたことを確認してください。"
   ]
  },
  {
   "cell_type": "code",
   "execution_count": null,
   "metadata": {
    "tags": []
   },
   "outputs": [],
   "source": [
    "cat ${target_dir}/params/00-config.yml"
   ]
  },
  {
   "cell_type": "markdown",
   "metadata": {},
   "source": [
    "### PiCamera Container\n",
    "\n",
    "Raspberry Piのカメラデータを送信するPiCamera Containerに関するパラメータを指定します。"
   ]
  },
  {
   "cell_type": "markdown",
   "metadata": {},
   "source": [
    "カメラデータの送信先となるKafkaのトピック名を指定してください。トピック名は英数字または`-`, `_`のみで構成された文字列として下さい。また複数のRaspberry Piからカメラ画像を送信する場合は、それぞれの送信先となるトピック名を`,`で繋げて指定してください。"
   ]
  },
  {
   "cell_type": "code",
   "execution_count": null,
   "metadata": {
    "tags": []
   },
   "outputs": [],
   "source": [
    "# (例)\n",
    "# picamera_topics=image-sinetstream-picamera\n",
    "# picamera_topics=image-sinetstream-picamera1,image-sinetstream-picamera2,image-sinetstream-picamera3\n",
    "\n",
    "picamera_topics=image-sinetstream-picamera"
   ]
  },
  {
   "cell_type": "markdown",
   "metadata": {},
   "source": [
    "指定されたパラメータをファイルに保存します。"
   ]
  },
  {
   "cell_type": "code",
   "execution_count": null,
   "metadata": {},
   "outputs": [],
   "source": [
    "jinja2 \\\n",
    "    -D picamera_topics=\"${picamera_topics:?ERROR: データ送信先となるトピック名が指定されていません}\" \\\n",
    "    -o ${target_dir}/params/01-picamera.yml  \\\n",
    "    files/template/config/01-picamera.yml.j2"
   ]
  },
  {
   "cell_type": "markdown",
   "metadata": {},
   "source": [
    "ファイルの内容を表示します。内容を確認して下さい。"
   ]
  },
  {
   "cell_type": "code",
   "execution_count": null,
   "metadata": {
    "tags": []
   },
   "outputs": [],
   "source": [
    "cat ${target_dir}/params/01-picamera.yml"
   ]
  },
  {
   "cell_type": "markdown",
   "metadata": {
    "tags": []
   },
   "source": [
    "### Kafka\n",
    "\n",
    "カメラデータの送信先となるKafkaブローカに関するパラメータを指定します。"
   ]
  },
  {
   "cell_type": "markdown",
   "metadata": {},
   "source": [
    "Kafkaブローカに関するパラメータが既に設定済みであるかを確認します。次のセルを実行して出力結果が表示された場合は既にKafkaブローカに関するパラメータを設定済みです。この節をスキップして次節に進んでください。"
   ]
  },
  {
   "cell_type": "code",
   "execution_count": null,
   "metadata": {},
   "outputs": [],
   "source": [
    "[ ! -f ${target_dir}/params/01-kafka.yml ] || \\\n",
    "cat ${target_dir}/params/01-kafka.yml"
   ]
  },
  {
   "cell_type": "markdown",
   "metadata": {},
   "source": [
    "Kafkaブローカのポート番号を指定して下さい。"
   ]
  },
  {
   "cell_type": "code",
   "execution_count": null,
   "metadata": {
    "tags": []
   },
   "outputs": [],
   "source": [
    "# (例)\n",
    "# kafka_port=9092\n",
    "\n",
    "kafka_port=9092"
   ]
  },
  {
   "cell_type": "markdown",
   "metadata": {},
   "source": [
    "Kafkaの外部公開ホスト名を指定してください。Raspberry PiからKafkaブローカにアクセスするときは、ここで指定したホスト名（またはIPアドレス）でアクセス出来るように設定する必要があります。"
   ]
  },
  {
   "cell_type": "code",
   "execution_count": null,
   "metadata": {
    "tags": []
   },
   "outputs": [],
   "source": [
    "# (例)\n",
    "# kafka_host=kafka.example.org\n",
    "# kafka_host=192.168.10.100\n",
    "\n",
    "kafka_hostname="
   ]
  },
  {
   "cell_type": "markdown",
   "metadata": {},
   "source": [
    "kafkaのクラスタIDを生成します。"
   ]
  },
  {
   "cell_type": "code",
   "execution_count": null,
   "metadata": {},
   "outputs": [],
   "source": [
    "cluster_id=$(docker run -q --rm apache/kafka:latest /opt/kafka/bin/kafka-storage.sh random-uuid)"
   ]
  },
  {
   "cell_type": "markdown",
   "metadata": {},
   "source": [
    "指定されたパラメータをファイルに保存します。既に他のnotebookでKafkaに関するパラメータが保存されている場合はその値が優先されます。"
   ]
  },
  {
   "cell_type": "code",
   "execution_count": null,
   "metadata": {
    "tags": []
   },
   "outputs": [],
   "source": [
    "[ -f ${target_dir}/params/01-kafka.yml ] || \\\n",
    "cat > ${target_dir}/params/01-kafka.yml <<EOF\n",
    "kafka:\n",
    "  port: ${kafka_port}\n",
    "  hostname: ${kafka_hostname}\n",
    "EOF\n",
    "[ -f ${target_dir}/params/01-kraft.yml ] || \\\n",
    "cat > ${target_dir}/params/01-kraft.yml <<EOF\n",
    "kraft:\n",
    "  cluster_id: ${cluster_id}\n",
    "EOF"
   ]
  },
  {
   "cell_type": "markdown",
   "metadata": {},
   "source": [
    "ファイルの内容を表示します。内容を確認して下さい。"
   ]
  },
  {
   "cell_type": "code",
   "execution_count": null,
   "metadata": {
    "tags": []
   },
   "outputs": [],
   "source": [
    "cat ${target_dir}/params/01-kafka.yml\n",
    "cat ${target_dir}/params/01-kraft.yml"
   ]
  },
  {
   "cell_type": "markdown",
   "metadata": {
    "tags": []
   },
   "source": [
    "### NGINX\n",
    "\n",
    "送信されたカメラデータを表示するwebサーバ(NGINX)に関するパラメータを指定します。"
   ]
  },
  {
   "cell_type": "markdown",
   "metadata": {},
   "source": [
    "NGINXに関するパラメータが既に設定済みであるかを確認します。次のセルを実行して出力結果が表示された場合は既にNGINXに関するパラメータを設定済みです。この節をスキップして次節に進んでください。"
   ]
  },
  {
   "cell_type": "code",
   "execution_count": null,
   "metadata": {},
   "outputs": [],
   "source": [
    "[ ! -f ${target_dir}/params/01-www.yml ] || \\\n",
    "cat ${target_dir}/params/01-www.yml"
   ]
  },
  {
   "cell_type": "markdown",
   "metadata": {},
   "source": [
    "webサーバのプロトコルを指定します。`http`または`https`のどちらかの値を指定して下さい。"
   ]
  },
  {
   "cell_type": "code",
   "execution_count": null,
   "metadata": {
    "tags": []
   },
   "outputs": [],
   "source": [
    "# (例)\n",
    "# www_protocol=http\n",
    "# www_protocol=https\n",
    "\n",
    "www_protocol="
   ]
  },
  {
   "cell_type": "markdown",
   "metadata": {},
   "source": [
    "#### サーバ証明書などの指定\n",
    "\n",
    "webサーバをhttpsで公開する場合はサーバ証明書と秘密鍵などを指定する必要があります。\n",
    "\n",
    "> `www_protocol`の値に`http`を指定した場合は、この節をスキップして次の「パラメータの保存」からの手順を進めて下さい。"
   ]
  },
  {
   "cell_type": "markdown",
   "metadata": {},
   "source": [
    "webサーバのホスト名を指定してください。サーバ証明書の内容と一致するホスト名を指定してください。"
   ]
  },
  {
   "cell_type": "code",
   "execution_count": null,
   "metadata": {},
   "outputs": [],
   "source": [
    "# (例)\n",
    "# hostname=www.example.org\n",
    "\n",
    "hostname="
   ]
  },
  {
   "cell_type": "markdown",
   "metadata": {},
   "source": [
    "サーバ証明書のパスを指定してください。"
   ]
  },
  {
   "cell_type": "code",
   "execution_count": null,
   "metadata": {},
   "outputs": [],
   "source": [
    "# (例)\n",
    "# cert_file_path=certs/server.crt\n",
    "\n",
    "cert_file_path="
   ]
  },
  {
   "cell_type": "markdown",
   "metadata": {},
   "source": [
    "サーバ証明書の秘密鍵のパスを指定してください。"
   ]
  },
  {
   "cell_type": "code",
   "execution_count": null,
   "metadata": {},
   "outputs": [],
   "source": [
    "# (例)\n",
    "# cert_key_path=certs/server.key\n",
    "\n",
    "cert_key_path="
   ]
  },
  {
   "cell_type": "markdown",
   "metadata": {},
   "source": [
    "#### パラメータの保存\n",
    "\n",
    "指定されたパラメータをファイルに保存します。"
   ]
  },
  {
   "cell_type": "markdown",
   "metadata": {},
   "source": [
    "既に他のnotebookでwebサーバに関するパラメータが保存されている場合はその値が優先され、このnotebookで指定した値は保存されません。"
   ]
  },
  {
   "cell_type": "code",
   "execution_count": null,
   "metadata": {
    "tags": []
   },
   "outputs": [],
   "source": [
    "[ -f ${target_dir}/params/01-www.yml ] || \\\n",
    "cat > ${target_dir}/params/01-www.yml <<EOF\n",
    "www:\n",
    "  hostname: ${hostname:-localhost}\n",
    "  protocol: $www_protocol\n",
    "EOF"
   ]
  },
  {
   "cell_type": "markdown",
   "metadata": {},
   "source": [
    "ファイルの内容を表示します。内容を確認して下さい。"
   ]
  },
  {
   "cell_type": "code",
   "execution_count": null,
   "metadata": {
    "tags": []
   },
   "outputs": [],
   "source": [
    "cat ${target_dir}/params/01-www.yml"
   ]
  },
  {
   "cell_type": "markdown",
   "metadata": {},
   "source": [
    "### MinIO\n",
    "\n",
    "カメラ画像を保存するオブジェクトストレージ(MinIO)に関するパラメータを指定します。"
   ]
  },
  {
   "cell_type": "markdown",
   "metadata": {},
   "source": [
    "MinIOに関するパラメータが既に設定済みであるかを確認します。次のセルを実行して出力結果が表示された場合は既にMinIOに関するパラメータを設定済みです。この節をスキップして次節に進んでください。"
   ]
  },
  {
   "cell_type": "code",
   "execution_count": null,
   "metadata": {},
   "outputs": [],
   "source": [
    "if [ -f ${target_dir}/params/01-minio.yml ]; then\n",
    "    cat ${target_dir}/params/01-minio.yml\n",
    "    MINIO_ROOT_USER=$(grep user ${target_dir}/params/01-minio.yml | awk '{print $2}')\n",
    "    MINIO_ROOT_PASSWORD=$(grep password ${target_dir}/params/01-minio.yml | awk '{print $2}')\n",
    "    bucket_name=$(grep bucket ${target_dir}/params/01-minio.yml | awk '{print $2}')\n",
    "fi"
   ]
  },
  {
   "cell_type": "markdown",
   "metadata": {},
   "source": [
    "オブジェクトストレージの管理者として登録するユーザ名を指定してください。"
   ]
  },
  {
   "cell_type": "code",
   "execution_count": null,
   "metadata": {
    "tags": []
   },
   "outputs": [],
   "source": [
    "# (例)\n",
    "# MINIO_ROOT_USER=myminioadmin\n",
    "\n",
    "MINIO_ROOT_USER="
   ]
  },
  {
   "cell_type": "markdown",
   "metadata": {},
   "source": [
    "オブジェクトストレージ管理者のパスワードを指定してください。"
   ]
  },
  {
   "cell_type": "code",
   "execution_count": null,
   "metadata": {
    "tags": []
   },
   "outputs": [],
   "source": [
    "# (例)\n",
    "# MINIO_ROOT_PASSWORD=minio-secret-key-change-me\n",
    "\n",
    "MINIO_ROOT_PASSWORD="
   ]
  },
  {
   "cell_type": "markdown",
   "metadata": {},
   "source": [
    "カメラ画像の保存先となるバケット名を指定してください。"
   ]
  },
  {
   "cell_type": "code",
   "execution_count": null,
   "metadata": {
    "tags": []
   },
   "outputs": [],
   "source": [
    "# (例)\n",
    "# bucket_name=camera\n",
    "\n",
    "bucket_name=camera"
   ]
  },
  {
   "cell_type": "markdown",
   "metadata": {},
   "source": [
    "各パラメータに値が設定されていることを確認します。次のセルを実行してエラーにならないことを確認して下さい。"
   ]
  },
  {
   "cell_type": "code",
   "execution_count": null,
   "metadata": {
    "tags": []
   },
   "outputs": [],
   "source": [
    ": ${MINIO_ROOT_USER:?ERROR: 管理者ユーザ名が指定されていません}\n",
    ": ${MINIO_ROOT_PASSWORD:?ERROR: 管理者のパスワードが指定されていません}\n",
    ": ${bucket_name:?ERROR: バケット名が指定されていません}"
   ]
  },
  {
   "cell_type": "markdown",
   "metadata": {},
   "source": [
    "オブジェクトストレージに関するパラメータを保存します。"
   ]
  },
  {
   "cell_type": "code",
   "execution_count": null,
   "metadata": {
    "tags": []
   },
   "outputs": [],
   "source": [
    "[ -f ${target_dir}/params/01-minio.yml ] || \\\n",
    "cat > ${target_dir}/params/01-minio.yml <<EOF\n",
    "minio:\n",
    "  root:\n",
    "    user: $MINIO_ROOT_USER\n",
    "    password: $MINIO_ROOT_PASSWORD\n",
    "  bucket: $bucket_name\n",
    "EOF"
   ]
  },
  {
   "cell_type": "markdown",
   "metadata": {},
   "source": [
    "ファイルの内容を表示します。内容を確認して下さい。"
   ]
  },
  {
   "cell_type": "code",
   "execution_count": null,
   "metadata": {
    "tags": []
   },
   "outputs": [],
   "source": [
    "cat ${target_dir}/params/01-minio.yml"
   ]
  },
  {
   "cell_type": "markdown",
   "metadata": {
    "tags": []
   },
   "source": [
    "### PostgreSQL\n",
    "カメラ画像のメタデータなどを保存するデータベースのパラメータを指定します。"
   ]
  },
  {
   "cell_type": "markdown",
   "metadata": {},
   "source": [
    "PostgreSQLに関するパラメータが既に設定済みであるかを確認します。次のセルを実行して出力結果が表示された場合は既にPostgreSQLに関するパラメータを設定済みです。この節をスキップして次節に進んでください。"
   ]
  },
  {
   "cell_type": "code",
   "execution_count": null,
   "metadata": {},
   "outputs": [],
   "source": [
    "if [ -f ${target_dir}/params/01-postgres.yml ]; then\n",
    "    cat ${target_dir}/params/01-postgres.yml\n",
    "    POSTGRES_DB=$(grep database ${target_dir}/params/01-postgres.yml | awk '{print $2}')\n",
    "    POSTGRES_USER=$(grep user ${target_dir}/params/01-postgres.yml | awk '{print $2}')\n",
    "    POSTGRES_PASSWORD=$(grep password ${target_dir}/params/01-postgres.yml | awk '{print $2}')\n",
    "fi"
   ]
  },
  {
   "cell_type": "markdown",
   "metadata": {},
   "source": [
    "データベース名を指定してください。"
   ]
  },
  {
   "cell_type": "code",
   "execution_count": null,
   "metadata": {
    "tags": []
   },
   "outputs": [],
   "source": [
    "# (例)\n",
    "# POSTGRES_DB=sensor\n",
    "\n",
    "POSTGRES_DB=sensor"
   ]
  },
  {
   "cell_type": "markdown",
   "metadata": {},
   "source": [
    "ユーザ名を指定してください。"
   ]
  },
  {
   "cell_type": "code",
   "execution_count": null,
   "metadata": {},
   "outputs": [],
   "source": [
    "# (例)\n",
    "# POSTGRES_USER=sensor\n",
    "\n",
    "POSTGRES_USER=sensor"
   ]
  },
  {
   "cell_type": "markdown",
   "metadata": {},
   "source": [
    "パスワードを指定してください。"
   ]
  },
  {
   "cell_type": "code",
   "execution_count": null,
   "metadata": {},
   "outputs": [],
   "source": [
    "# (例)\n",
    "# POSTGRES_PASSWORD=db-pass-00\n",
    "\n",
    "POSTGRES_PASSWORD="
   ]
  },
  {
   "cell_type": "markdown",
   "metadata": {},
   "source": [
    "各パラメータに値が設定されていることを確認します。次のセルを実行してエラーにならないことを確認して下さい。"
   ]
  },
  {
   "cell_type": "code",
   "execution_count": null,
   "metadata": {
    "tags": []
   },
   "outputs": [],
   "source": [
    ": ${POSTGRES_DB:?ERROR: データベース名が指定されていません}\n",
    ": ${POSTGRES_USER:?ERROR: データベースのユーザ名が指定されていません}\n",
    ": ${POSTGRES_PASSWORD:?ERROR: データベースのパスワードが指定されていません}"
   ]
  },
  {
   "cell_type": "markdown",
   "metadata": {},
   "source": [
    "データベース(PostgreSQL)に関するパラメータを保存します。"
   ]
  },
  {
   "cell_type": "code",
   "execution_count": null,
   "metadata": {
    "tags": []
   },
   "outputs": [],
   "source": [
    "[ -f ${target_dir}/params/01-postgres.yml ] || \\\n",
    "cat > ${target_dir}/params/01-postgres.yml <<EOF\n",
    "postgres:\n",
    "  database: ${POSTGRES_DB}\n",
    "  user: ${POSTGRES_USER}\n",
    "  password: ${POSTGRES_PASSWORD}\n",
    "  url: postgres://${POSTGRES_USER}:$(\n",
    "      python -c \"import urllib.parse; print(urllib.parse.quote('$POSTGRES_PASSWORD'))\"\n",
    "  )@postgres:5432/${POSTGRES_DB}?sslmode=disable\n",
    "EOF"
   ]
  },
  {
   "cell_type": "markdown",
   "metadata": {},
   "source": [
    "ファイルの内容を表示します。内容を確認して下さい。"
   ]
  },
  {
   "cell_type": "code",
   "execution_count": null,
   "metadata": {
    "tags": []
   },
   "outputs": [],
   "source": [
    "cat ${target_dir}/params/01-postgres.yml"
   ]
  },
  {
   "cell_type": "markdown",
   "metadata": {},
   "source": [
    "## 資材の配置\n",
    "\n",
    "サーバを構成するための資材の配置を行います。"
   ]
  },
  {
   "cell_type": "markdown",
   "metadata": {
    "tags": []
   },
   "source": [
    "### NGINX\n",
    "\n",
    "Webサーバとして利用するNGINXの設定ファイルなどを配置します。"
   ]
  },
  {
   "cell_type": "markdown",
   "metadata": {},
   "source": [
    "NGINXの設定ファイルを配置します。"
   ]
  },
  {
   "cell_type": "code",
   "execution_count": null,
   "metadata": {
    "tags": []
   },
   "outputs": [],
   "source": [
    "mkdir -p ${target_dir}/conf/nginx\n",
    "\n",
    "cat ${target_dir}/params/*.yml | \\\n",
    "jinja2 --strict \\\n",
    "    -o ${target_dir}/conf/nginx/default.conf \\\n",
    "    files/template/nginx/default.conf.j2 "
   ]
  },
  {
   "cell_type": "markdown",
   "metadata": {},
   "source": [
    "配置した設定ファイルの内容を表示します。"
   ]
  },
  {
   "cell_type": "code",
   "execution_count": null,
   "metadata": {
    "tags": []
   },
   "outputs": [],
   "source": [
    "cat ${target_dir}/conf/nginx/default.conf"
   ]
  },
  {
   "cell_type": "markdown",
   "metadata": {},
   "source": [
    "NGINXをHTTPSで公開する場合に必要となるサーバ証明書と秘密鍵を配置します。サーバ証明書とその秘密鍵を指定している場合のみ、ファイルの配置が行われます。"
   ]
  },
  {
   "cell_type": "code",
   "execution_count": null,
   "metadata": {
    "tags": []
   },
   "outputs": [],
   "source": [
    "mkdir -p ${target_dir}/secrets\n",
    "[ -z \"$cert_file_path\" ] || cp $cert_file_path ${target_dir}/secrets/CERT_FILE\n",
    "[ -z \"$cert_key_path\" ] || cp $cert_key_path ${target_dir}/secrets/CERT_KEY"
   ]
  },
  {
   "cell_type": "markdown",
   "metadata": {},
   "source": [
    "### MinIO\n",
    "\n",
    "オブジェクトストレージを実行するMinIOコンテナの設定ファイルを配置します。"
   ]
  },
  {
   "cell_type": "code",
   "execution_count": null,
   "metadata": {
    "tags": []
   },
   "outputs": [],
   "source": [
    "mkdir -p ${target_dir}/secrets\n",
    "cat ${target_dir}/params/*.yml | \\\n",
    "jinja2 --strict \\\n",
    "    -o ${target_dir}/secrets/MINIO_CONFIG \\\n",
    "    files/template/minio/MINIO_CONFIG.j2"
   ]
  },
  {
   "cell_type": "markdown",
   "metadata": {},
   "source": [
    "ファイルの内容を表示します。内容を確認して下さい。"
   ]
  },
  {
   "cell_type": "code",
   "execution_count": null,
   "metadata": {
    "tags": []
   },
   "outputs": [],
   "source": [
    "cat ${target_dir}/secrets/MINIO_CONFIG"
   ]
  },
  {
   "cell_type": "markdown",
   "metadata": {
    "tags": []
   },
   "source": [
    "### PostgreSQL\n",
    "\n",
    "データベースに関する設定ファイルなどを配置します。"
   ]
  },
  {
   "cell_type": "markdown",
   "metadata": {},
   "source": [
    "データベース名、ユーザ名、パスワードなどを記録したファイルを配置します。これらのパラメータは[docker secret](https://docs.docker.com/engine/swarm/secrets/)として管理します。既に設定済みのファイルが存在している場合は既存のファイルが優先され、ファイルへの書き込みは行いません。"
   ]
  },
  {
   "cell_type": "code",
   "execution_count": null,
   "metadata": {
    "tags": []
   },
   "outputs": [],
   "source": [
    "mkdir -p ${target_dir}/secrets\n",
    "\n",
    "[ -f ${target_dir}/secrets/POSTGRES_DB ] || \\\n",
    "cat > ${target_dir}/secrets/POSTGRES_DB <<EOF\n",
    "$POSTGRES_DB\n",
    "EOF\n",
    "\n",
    "[ -f ${target_dir}/secrets/POSTGRES_USER ] || \\\n",
    "cat > ${target_dir}/secrets/POSTGRES_USER <<EOF\n",
    "$POSTGRES_USER\n",
    "EOF\n",
    "\n",
    "[ -f ${target_dir}/secrets/POSTGRES_PASSWORD ] || \\\n",
    "cat > ${target_dir}/secrets/POSTGRES_PASSWORD <<EOF\n",
    "$POSTGRES_PASSWORD\n",
    "EOF"
   ]
  },
  {
   "cell_type": "markdown",
   "metadata": {},
   "source": [
    "配置したファイルの内容を表示します。"
   ]
  },
  {
   "cell_type": "code",
   "execution_count": null,
   "metadata": {
    "tags": []
   },
   "outputs": [],
   "source": [
    "cat ${target_dir}/secrets/POSTGRES_DB\n",
    "cat ${target_dir}/secrets/POSTGRES_USER\n",
    "cat ${target_dir}/secrets/POSTGRES_PASSWORD"
   ]
  },
  {
   "cell_type": "markdown",
   "metadata": {},
   "source": [
    "データベースの初期投入SQLファイルを配置します。"
   ]
  },
  {
   "cell_type": "code",
   "execution_count": null,
   "metadata": {
    "tags": []
   },
   "outputs": [],
   "source": [
    "mkdir -p ${target_dir}/init/sql\n",
    "\n",
    "cat ${target_dir}/params/*.yml | \\\n",
    "jinja2 --strict \\\n",
    "    -o ${target_dir}/params/.vars_sql.yml \\\n",
    "    files/template/sql/vars_sql.yml.j2\n",
    "\n",
    "cat ${target_dir}/params/.vars_sql.yml ${target_dir}/params/00-config.yml | \\\n",
    "jinja2 --strict \\\n",
    "    -o ${target_dir}/init/sql/create_table.sql \\\n",
    "    files/template/sql/create_table.sql.j2"
   ]
  },
  {
   "cell_type": "markdown",
   "metadata": {},
   "source": [
    "配置したSQLファイルの内容を確認します。次のセルでは配置したファイルの先頭部分のみを表示しています。必要に応じて| headの部分をコメントアウトしてセルを実行して下さい。"
   ]
  },
  {
   "cell_type": "code",
   "execution_count": null,
   "metadata": {
    "tags": []
   },
   "outputs": [],
   "source": [
    "cat ${target_dir}/init/sql/create_table.sql | head"
   ]
  },
  {
   "cell_type": "markdown",
   "metadata": {},
   "source": [
    "### Hasura\n",
    "\n",
    "GraphQLサーバとして利用するHasuraの設定ファイルを配置します。"
   ]
  },
  {
   "cell_type": "code",
   "execution_count": null,
   "metadata": {
    "tags": []
   },
   "outputs": [],
   "source": [
    "mkdir -p ${target_dir}/init/hasura\n",
    "\n",
    "cp -a files/template/hasura/metadata/* \\\n",
    "    ${target_dir}/init/hasura/\n",
    "\n",
    "jinja2 --strict \\\n",
    "    -o ${target_dir}/init/hasura/databases/sensor-data/tables/tables.yaml \\\n",
    "    files/template/hasura/tables.yaml.j2 \\\n",
    "    ${target_dir}/params/00-config.yml"
   ]
  },
  {
   "cell_type": "markdown",
   "metadata": {
    "tags": []
   },
   "source": [
    "### docker-compose.yml\n",
    "\n",
    "サーバを構成するコンテナに関する設定ファイルを配置します。"
   ]
  },
  {
   "cell_type": "markdown",
   "metadata": {},
   "source": [
    "`docker-compose.yml`を配置します。"
   ]
  },
  {
   "cell_type": "code",
   "execution_count": null,
   "metadata": {
    "tags": []
   },
   "outputs": [],
   "source": [
    "cat ${target_dir}/params/*.yml | \\\n",
    "jinja2 --strict \\\n",
    "    -o ${target_dir}/docker-compose.yml \\\n",
    "    files/template/docker/docker-compose.yml.j2"
   ]
  },
  {
   "cell_type": "markdown",
   "metadata": {},
   "source": [
    "配置した設定ファイルの内容を表示します。"
   ]
  },
  {
   "cell_type": "code",
   "execution_count": null,
   "metadata": {
    "tags": []
   },
   "outputs": [],
   "source": [
    "cat ${target_dir}/docker-compose.yml"
   ]
  },
  {
   "cell_type": "markdown",
   "metadata": {},
   "source": [
    "`docker compose`の環境変数を記した`.env`ファイルを作成します。"
   ]
  },
  {
   "cell_type": "code",
   "execution_count": null,
   "metadata": {
    "tags": []
   },
   "outputs": [],
   "source": [
    "cat ${target_dir}/params/*.yml | \\\n",
    "jinja2 --strict \\\n",
    "    -o ${target_dir}/.env \\\n",
    "    -D uid=$(id -u) -D gid=$(id -g) \\\n",
    "    files/template/docker/dot_env.j2"
   ]
  },
  {
   "cell_type": "markdown",
   "metadata": {},
   "source": [
    "配置したファイルの内容を表示します。"
   ]
  },
  {
   "cell_type": "code",
   "execution_count": null,
   "metadata": {
    "tags": []
   },
   "outputs": [],
   "source": [
    "cat ${target_dir}/.env"
   ]
  },
  {
   "cell_type": "markdown",
   "metadata": {},
   "source": [
    "必要となるディレクトリを作成します。"
   ]
  },
  {
   "cell_type": "code",
   "execution_count": null,
   "metadata": {},
   "outputs": [],
   "source": [
    "mkdir -p ${target_dir}/data/postgres ${target_dir}/data/minio"
   ]
  },
  {
   "cell_type": "markdown",
   "metadata": {
    "tags": []
   },
   "source": [
    "## コンテナの起動\n",
    "\n",
    "サーバを構成するコンテナを起動します。"
   ]
  },
  {
   "cell_type": "markdown",
   "metadata": {},
   "source": [
    "利用するコンテナイメージを取得します。"
   ]
  },
  {
   "cell_type": "code",
   "execution_count": null,
   "metadata": {
    "tags": []
   },
   "outputs": [],
   "source": [
    "docker compose --project-directory ${target_dir} pull -q"
   ]
  },
  {
   "cell_type": "markdown",
   "metadata": {},
   "source": [
    "コンテナを起動します。notebook環境でdocker compose upを実行すると処理中の表示が煩雑なため、次のセルでは全ての出力結果を破棄しています。エラーや警告表示を確認する必要がある場合はnotebook環境ではなく、別窓でターミナルなどを開いてdocker compose upコマンドを実行して下さい。"
   ]
  },
  {
   "cell_type": "code",
   "execution_count": null,
   "metadata": {
    "tags": []
   },
   "outputs": [],
   "source": [
    "docker compose --project-directory ${target_dir} up -d --remove-orphans >& /dev/null"
   ]
  },
  {
   "cell_type": "markdown",
   "metadata": {},
   "source": [
    "コンテナの実行状況を確認します。"
   ]
  },
  {
   "cell_type": "code",
   "execution_count": null,
   "metadata": {
    "tags": []
   },
   "outputs": [],
   "source": [
    "docker compose --project-directory ${target_dir} ps"
   ]
  },
  {
   "cell_type": "markdown",
   "metadata": {},
   "source": [
    "## 初期設定\n",
    "\n",
    "起動したコンテナに対して初期設定を行います。"
   ]
  },
  {
   "cell_type": "markdown",
   "metadata": {},
   "source": [
    "### PostgreSQL\n",
    "\n",
    "テーブル定義やビュー定義などを記述したSQLファイルを実行します。"
   ]
  },
  {
   "cell_type": "code",
   "execution_count": null,
   "metadata": {
    "tags": []
   },
   "outputs": [],
   "source": [
    "docker compose --project-directory ${target_dir} exec postgres \\\n",
    "    psql -U $POSTGRES_USER -d $POSTGRES_DB \\\n",
    "    -f /docker-entrypoint-initdb.d/020_create_table.sql"
   ]
  },
  {
   "cell_type": "markdown",
   "metadata": {},
   "source": [
    "確認のためテーブル、ビューなどのリレーションの一覧を表示してみます。"
   ]
  },
  {
   "cell_type": "code",
   "execution_count": null,
   "metadata": {
    "tags": []
   },
   "outputs": [],
   "source": [
    "docker compose --project-directory ${target_dir} exec postgres \\\n",
    "    psql -U $POSTGRES_USER -d $POSTGRES_DB -c \"\\pset pager off\" -c \"\\d\""
   ]
  },
  {
   "cell_type": "markdown",
   "metadata": {},
   "source": [
    "テーブル定義の変更を反映するためにgraphqlコンテナを再起動します。"
   ]
  },
  {
   "cell_type": "code",
   "execution_count": null,
   "metadata": {},
   "outputs": [],
   "source": [
    "docker compose --project-directory ${target_dir} restart graphql >& /dev/null"
   ]
  },
  {
   "cell_type": "markdown",
   "metadata": {},
   "source": [
    "### MinIO\n",
    "\n",
    "オブジェクトストレージの初期設定スクリプトを実行します。"
   ]
  },
  {
   "cell_type": "markdown",
   "metadata": {},
   "source": [
    "次のセルを実行すると以下の項目の初期設定が行われます。\n",
    "\n",
    "* バケットの作成\n",
    "* アクセス権の設定\n",
    "* オブジェクトの変更通知設定"
   ]
  },
  {
   "cell_type": "code",
   "execution_count": null,
   "metadata": {
    "tags": []
   },
   "outputs": [],
   "source": [
    "cat > files/setup/minio/.env <<EOF\n",
    "target_dir=${target_dir}\n",
    "BUCKET_NAME=${bucket_name}\n",
    "EOF\n",
    "\n",
    "docker compose --project-directory files/setup/minio \\\n",
    "    -f files/setup/minio/docker-compose-setup.yml up --quiet-pull"
   ]
  },
  {
   "cell_type": "markdown",
   "metadata": {
    "tags": []
   },
   "source": [
    "### Kafka Connect\n",
    "\n",
    "Kafkaブローカと他コンポーネントの間でデータの送受信を処理するKafka Connectの設定を行います。"
   ]
  },
  {
   "cell_type": "markdown",
   "metadata": {
    "tags": []
   },
   "source": [
    "#### KafkaからMinIO\n",
    "\n",
    "Raspberry PiからKafkaブローカに送信されたカメラ画像をオブジェクトストレージに保存する設定を行います。"
   ]
  },
  {
   "cell_type": "code",
   "execution_count": null,
   "metadata": {
    "tags": []
   },
   "outputs": [],
   "source": [
    "env ACCESS_KEY=$MINIO_ROOT_USER SECRET_KEY=$MINIO_ROOT_PASSWORD \\\n",
    "files/setup/kafka-connect/setup-sink-minio.sh -t $picamera_topics -b $bucket_name \\\n",
    "    -u http://minio:9000 -D -n sink-minio-picamera"
   ]
  },
  {
   "cell_type": "markdown",
   "metadata": {},
   "source": [
    "登録状況を確認します。`jq`コマンドが利用できない場合は、次のセルの末尾の`| jq .`の部分をコメントアウトして実行して下さい。"
   ]
  },
  {
   "cell_type": "code",
   "execution_count": null,
   "metadata": {},
   "outputs": [],
   "source": [
    "curl -s http://localhost:8083/connectors/sink-minio-picamera | jq ."
   ]
  },
  {
   "cell_type": "markdown",
   "metadata": {},
   "source": [
    "#### KafkaからPostgreSQL\n",
    "\n",
    "Raspberry PiからKafkaブローカに送信されたカメラ画像のタイムスタンプなどのメタデータをデータベースに保存する設定を行います。"
   ]
  },
  {
   "cell_type": "code",
   "execution_count": null,
   "metadata": {
    "tags": []
   },
   "outputs": [],
   "source": [
    "env POSTGRES_DB=$POSTGRES_DB POSTGRES_USER=$POSTGRES_USER POSTGRES_PASSWORD=$POSTGRES_PASSWORD \\\n",
    "files/setup/kafka-connect/setup-sink-psql-etag.sh -t $picamera_topics -n sink-psql-etag"
   ]
  },
  {
   "cell_type": "markdown",
   "metadata": {},
   "source": [
    "登録状況を確認します。"
   ]
  },
  {
   "cell_type": "code",
   "execution_count": null,
   "metadata": {},
   "outputs": [],
   "source": [
    "curl -s http://localhost:8083/connectors/sink-psql-etag | jq ."
   ]
  },
  {
   "cell_type": "markdown",
   "metadata": {},
   "source": [
    "#### PostgreSQLからKafka"
   ]
  },
  {
   "cell_type": "markdown",
   "metadata": {
    "tags": []
   },
   "source": [
    "Webサーバで画像を表示する際の応答時間を短くするために事前に縮小画像をサーバ側で生成しておきます。縮小画像を生成するためにオブジェクトストレージに保存された画像ファイルのリストをデータベースから取得してKafkaブローカを経由して縮小画像生成コンテナに送ります。このための設定を行います。"
   ]
  },
  {
   "cell_type": "code",
   "execution_count": null,
   "metadata": {
    "tags": []
   },
   "outputs": [],
   "source": [
    "env POSTGRES_DB=$POSTGRES_DB POSTGRES_USER=$POSTGRES_USER POSTGRES_PASSWORD=$POSTGRES_PASSWORD \\\n",
    "files/setup/kafka-connect/setup-source-psql.sh -t minio-sinetstream- -n source-psql-minio-event"
   ]
  },
  {
   "cell_type": "markdown",
   "metadata": {},
   "source": [
    "登録状況を確認します。"
   ]
  },
  {
   "cell_type": "code",
   "execution_count": null,
   "metadata": {},
   "outputs": [],
   "source": [
    "curl -s http://localhost:8083/connectors/source-psql-minio-event | jq"
   ]
  },
  {
   "cell_type": "markdown",
   "metadata": {
    "tags": []
   },
   "source": [
    "## センサーデータの可視化結果の表示\n",
    "\n",
    "構築したwebサーバにアクセスして可視化結果を表示してみます。次のセルを実行すると表示されるアドレスにアクセスして下さい。"
   ]
  },
  {
   "cell_type": "code",
   "execution_count": null,
   "metadata": {
    "tags": []
   },
   "outputs": [],
   "source": [
    "echo \"${www_protocol}://${hostname:-localhost}\""
   ]
  },
  {
   "cell_type": "markdown",
   "metadata": {},
   "source": [
    "上のセルの実行結果に表示されたアドレスに初めてアクセスすると下図のような設定画面が表示されます。\n",
    "\n",
    "> 既に初回設定を済ませている場合は可視化画面が表示されます。\n",
    "\n",
    "![viewer初期画面](img/viewer-001.png)\n",
    "\n",
    "設定画面で直接各項目を入力することもできますが、サーバ構築時に登録されたデフォルト設定をダウンロードすることもできます。\n",
    "\n",
    "デフォルト設定をダウンロードする場合は上図の赤丸で示したアイコンを選択して下さい。次図のような画面が表示されます。ドロップダウンリストによりサーバ側に登録された設定内容を選択することができます。初回設定では、サーバ構築時に登録された`default`という設定内容のみが存在しています。\n",
    "\n",
    "![viewerダウンロード画面](img/viewer-005.png)\n",
    "\n",
    "ドロップダウンリストで`default`を選択し、画面下部に表示されている`Apply`ボタンをクリックして下さい。次図に示すようにサーバ側に登録されている内容が設定画面に取り込まれます。\n",
    "\n",
    "![viewer設定画面](img/viewer-006.png)\n",
    "\n",
    "設定画面の`name`欄に設定名を入力して画面下部の`Save`ボタンをクリックすることで設定内容がWebブラウザに保存されます。その後、次図のようなカメラ画像を表示する可視化画面となります。\n",
    "\n",
    "![viewer可視化画面](img/viewer-007.png)"
   ]
  },
  {
   "attachments": {},
   "cell_type": "markdown",
   "metadata": {
    "tags": []
   },
   "source": [
    "## 送信側の環境構築\n",
    "\n",
    "カメラ画像を送信するRaspberry Pi側の環境構築手順については[12-setup-raspi-camera.ipynb](../Sensor/RaspberryPi/12-setup-raspi-camera.ipynb)を参照して下さい。"
   ]
  }
 ],
 "metadata": {
  "kernelspec": {
   "display_name": "Bash",
   "language": "bash",
   "name": "bash"
  },
  "language_info": {
   "codemirror_mode": "shell",
   "file_extension": ".sh",
   "mimetype": "text/x-sh",
   "name": "bash"
  },
  "toc-autonumbering": true
 },
 "nbformat": 4,
 "nbformat_minor": 4
}
