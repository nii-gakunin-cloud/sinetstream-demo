{
 "cells": [
  {
   "attachments": {},
   "cell_type": "markdown",
   "id": "b8a3cdfb-9e32-4ecc-808e-0e158d396fb6",
   "metadata": {},
   "source": [
    "# Raspberry Pi Cameraとperftoolのデータをサーバに送信する"
   ]
  },
  {
   "attachments": {},
   "cell_type": "markdown",
   "id": "db347ac3-5b54-4ae8-bac5-bdc1bbdaa19d",
   "metadata": {},
   "source": [
    "## 概要"
   ]
  },
  {
   "attachments": {},
   "cell_type": "markdown",
   "id": "b5df9e64-757c-49bf-8736-c9908bbc8250",
   "metadata": {},
   "source": [
    "### システム構成\n",
    "\n",
    "システム構成を次図に示します。`Raspberry Pi`で示された枠内がこのnotebookで構築する対象になります。"
   ]
  },
  {
   "attachments": {},
   "cell_type": "markdown",
   "id": "9b80c5be-3e3d-4190-856b-cd581afd2ba4",
   "metadata": {},
   "source": [
    "![システム構成](img/14-components.png)\n",
    "<!--\n",
    "```mermaid\n",
    "flowchart LR\n",
    "  subgraph S[server]\n",
    "    subgraph N[\"NATS\"]\n",
    "      PTT([\"perftool target topic\"])\n",
    "    end\n",
    "    subgraph K[\"Apache Kafka\"]\n",
    "      CT([\"camera topic\"])\n",
    "      PTR([\"perftool result topic\"])\n",
    "    end\n",
    "  end\n",
    "  subgraph R[\"Raspberry Pi\"]\n",
    "    C([\"Camera\"])\n",
    "    CC[\"sensor-picamera\\nContainer\"]\n",
    "    PC[\"perftool\\nContainer\"]\n",
    "    C---CC==>CT\n",
    "    PC-.->PTT\n",
    "    PC==>PTR\n",
    "  end\n",
    "```\n",
    "-->\n",
    "\n",
    "sensor-picameraコンテナはRaspberry Piに接続されたカメラの画像を取得して、そのデータをKafkaブローカに送信します。またカメラ撮影の合間に[perftoolコマンド](https://github.com/nii-gakunin-cloud/sinetstream/tree/main/java/sample/perftool)を実行して、その計測結果をKafkaブローカに送信します。"
   ]
  },
  {
   "attachments": {},
   "cell_type": "markdown",
   "id": "7c0e2962-15ed-4f83-a864-078a1107d08a",
   "metadata": {},
   "source": [
    "### 前提条件\n",
    "\n",
    "環境を構築、実行するために必要となる前提条件を示します。\n",
    "\n",
    "* Raspberry Pi OS (64-bit)\n",
    "* [Raspberry Pi カメラモジュール](https://www.raspberrypi.com/documentation/accessories/camera.html)\n",
    "  * USBカメラはサポート対象外になります\n",
    "* docker, docker compose v2\n",
    "  * カメラ画像を送信するコンテナを実行するために必要となリます"
   ]
  },
  {
   "attachments": {},
   "cell_type": "markdown",
   "id": "e2998840-1ce4-4ab0-98f1-d3652d786442",
   "metadata": {},
   "source": [
    "前提条件に関する簡単なチェックを行います。"
   ]
  },
  {
   "attachments": {},
   "cell_type": "markdown",
   "id": "2452c962-b3a8-4256-b3a3-f1937ada4883",
   "metadata": {},
   "source": [
    "構築環境のOSをチェックします。次のセルを実行してエラーにならないことを確認して下さい。"
   ]
  },
  {
   "cell_type": "code",
   "execution_count": null,
   "id": "1104e248-e870-47be-bb69-0f1ef6e20e11",
   "metadata": {
    "tags": []
   },
   "outputs": [],
   "source": [
    "lsb_release -d | grep -e 'Debian GNU/Linux 12 (bookworm)'"
   ]
  },
  {
   "attachments": {},
   "cell_type": "markdown",
   "id": "46ca909e-605f-4607-9961-dc214f34e8ff",
   "metadata": {},
   "source": [
    "docker, docker composeが利用可能になっていることを確認します。"
   ]
  },
  {
   "cell_type": "code",
   "execution_count": null,
   "id": "b112935c-1ba2-4d98-b9b3-e5a6c6988874",
   "metadata": {
    "tags": []
   },
   "outputs": [],
   "source": [
    "docker version"
   ]
  },
  {
   "cell_type": "code",
   "execution_count": null,
   "id": "af91e2ae-be41-43e7-abf2-373142721fba",
   "metadata": {
    "tags": []
   },
   "outputs": [],
   "source": [
    "docker compose version"
   ]
  },
  {
   "attachments": {},
   "cell_type": "markdown",
   "id": "e9385f67-d7ef-4cf0-a52b-1bf37bd52562",
   "metadata": {},
   "source": [
    "## パラメータの指定"
   ]
  },
  {
   "attachments": {},
   "cell_type": "markdown",
   "id": "18e81aa5-e3ec-4807-b522-d567858960c5",
   "metadata": {},
   "source": [
    "### 配置場所 \n",
    "\n",
    "環境を構築するために必要となる資材を配置するディレクトリを次のセルに指定してください。"
   ]
  },
  {
   "cell_type": "code",
   "execution_count": null,
   "id": "bef770a7-82b1-48a4-b543-7a299174a619",
   "metadata": {
    "tags": []
   },
   "outputs": [],
   "source": [
    "# (例)\n",
    "# target_dir=$HOME/picamera\n",
    "# target_dir=/srv/picamera\n",
    "\n",
    "target_dir="
   ]
  },
  {
   "attachments": {},
   "cell_type": "markdown",
   "id": "1d455d19-9663-40c8-b555-45f54f26f7e0",
   "metadata": {},
   "source": [
    "### picamera\n",
    "\n",
    "カメラデータを送信するコンテナsensor-picameraではRaspberry Piカメラでの撮影に[Picamera2](https://github.com/raspberrypi/picamera2)を利用します。ここではPicamera2に設定するパラメータを指定します。"
   ]
  },
  {
   "attachments": {},
   "cell_type": "markdown",
   "id": "58fb2a22-d768-4308-bdd7-bf11dfa908fa",
   "metadata": {},
   "source": [
    "カメラの画像サイズを指定します。画像の幅と高さを(width)x(height)で指定することができます。また典型的なサイズについては文字列で指定することもできます。\n",
    "\n",
    "* QVGA\n",
    "  * 320x240\n",
    "* VGA\n",
    "  * 640x480\n",
    "* HD\n",
    "  * 1280x720\n",
    "* FHD, 2K\n",
    "  * 1920x1080\n",
    "* 4K\n",
    "  * 3840x2160"
   ]
  },
  {
   "cell_type": "code",
   "execution_count": null,
   "id": "5eb6a20c-3082-4f4a-9a26-85dd3e0b7c1a",
   "metadata": {
    "tags": []
   },
   "outputs": [],
   "source": [
    "# (例)\n",
    "# PICAMERA2_SIZE=320x240\n",
    "# PICAMERA2_SIZE=VGA\n",
    "# PICAMERA2_SIZE=640x480\n",
    "# PICAMERA2_SIZE=FHD\n",
    "\n",
    "PICAMERA2_SIZE="
   ]
  },
  {
   "attachments": {},
   "cell_type": "markdown",
   "id": "f6b69c9c-f301-4925-b944-bb714c9634e4",
   "metadata": {},
   "source": [
    "> `4K`などの大きなサイズの画像を指定する場合は、追加で最大メッセージサイズなどの設定を変更する必要があります。"
   ]
  },
  {
   "attachments": {},
   "cell_type": "markdown",
   "id": "21953444-621b-43f3-8dca-8f20f30d82ac",
   "metadata": {},
   "source": [
    "画像サイズ以外のPicamera2のパラメータに関してもコンテナの環境変数により設定することができます。指定する環境変数名はPicamera2のコンフィギュレーションパラメータを以下のルールで変換したものになります。\n",
    "\n",
    "* 全て大文字に変換する\n",
    "* プレフィックスに `PICAMERA2_` をつける\n",
    "* パラメータ名をプレフィックスの後に続ける\n",
    "  * 例えばcolour_spaceに対応する環境変数名は`PICAMERA2_COLOUR_SPACE`になる\n",
    "* stream-specific configurationパラメータはプレフィックスの後にパラメータ名を_でつなげる\n",
    "  * 例えばsizeに対応する環境変数名は`PICAMERA2_SIZE`になる\n",
    "* camera controlsのように子要素があるパラメータは、パラメータ名の後に_でつなげる\n",
    "* またcontrol名のように大文字、小文字が混在している場合は大文字の箇所を_で区切る\n",
    "  * 例えばcontrol名AwbModeに対応する環境変数名は`PICAMERA2_CONTROLS_AWB_MODE`になる\n",
    "  \n",
    "環境変数の設定例を次の表に示します。\n",
    "\n",
    "|環境変数名|説明|設定例|\n",
    "|---|---|---|\n",
    "|PICAMERA2_TRANSFORM_HFLIP|水平反転|PICAMERA2_TRANSFORM_HFLIP=1|\n",
    "|PICAMERA2_TRANSFORM_VFLIP|垂直反転|PICAMERA2_TRANSFORM_VFLIP=1|\n",
    "|PICAMERA2_BUFFER_COUNT|バッファセット数|PICAMERA2_BUFFER_COUNT=2|\n",
    "|PICAMERA2_CONTROLS_FRAME_RATE|フレームレート|PICAMERA2_CONTROLS_FRAME_RATE=5|\n",
    "|PICAMERA2_CONTROLS_AF_MODE|オートフォーカス|PICAMERA2_CONTROLS_AF_MODE=Continuous|\n",
    "|PICAMERA2_CONTROLS_AWB_MODE|ホワイトバランス|PICAMERA2_CONTROLS_AWB_MODE=Tungsten|\n"
   ]
  },
  {
   "attachments": {},
   "cell_type": "markdown",
   "id": "c27daac6-a5c9-4817-9912-956470619418",
   "metadata": {},
   "source": [
    "画像サイズ以外のpicamera2パラメータを設定する場合は次のセルで指定して下さい。"
   ]
  },
  {
   "cell_type": "code",
   "execution_count": null,
   "id": "adf7f5b7-b84c-4ef0-b42c-82057e4f1230",
   "metadata": {
    "tags": []
   },
   "outputs": [],
   "source": [
    "# (例)\n",
    "# PICAMERA2_PARAMS=\"\n",
    "# PICAMERA2_TRANSFORM_HFLIP=1\n",
    "# PICAMERA2_TRANSFORM_VFLIP=1\n",
    "# \"\n",
    "\n",
    "PICAMERA2_PARAMS=\"\n",
    "\""
   ]
  },
  {
   "attachments": {},
   "cell_type": "markdown",
   "id": "3e6a0d81-3789-4efd-bb80-1b79a9645b20",
   "metadata": {},
   "source": [
    "### 撮影間隔\n",
    "\n",
    "カメラ画像を取得する時間間隔（秒）を環境変数`SCHEDULE`に指定して下さい。"
   ]
  },
  {
   "cell_type": "code",
   "execution_count": null,
   "id": "9e9edf1f",
   "metadata": {
    "tags": []
   },
   "outputs": [],
   "source": [
    "# (例)\n",
    "# SCHEDULE=60\n",
    "\n",
    "SCHEDULE=60"
   ]
  },
  {
   "attachments": {},
   "cell_type": "markdown",
   "id": "993fcf3c-d0fb-4605-a3f3-533235a83354",
   "metadata": {},
   "source": [
    "`SCHEDULE`を指定しない場合は可能な限り連続的に画像を送信し続けます。"
   ]
  },
  {
   "attachments": {},
   "cell_type": "markdown",
   "id": "4db0e454-67a1-4ef8-965d-bdb000d53d88",
   "metadata": {},
   "source": [
    "### 画像送信先\n",
    "カメラデータの送信先となるKafkaブローカに関するパラメータを指定します。"
   ]
  },
  {
   "attachments": {},
   "cell_type": "markdown",
   "id": "e5cad09e-fe2d-4416-b2a2-dc0aba648171",
   "metadata": {},
   "source": [
    "Kafkaの外部公開ホスト名を指定してください。Raspberry PiからKafkaブローカにアクセスするときは、ここで指定したホスト名（またはIPアドレス）でアクセス出来るように設定する必要があります。"
   ]
  },
  {
   "cell_type": "code",
   "execution_count": null,
   "id": "b680e639-169c-45d6-9df5-32be31cf4afa",
   "metadata": {
    "tags": []
   },
   "outputs": [],
   "source": [
    "# (例)\n",
    "# kafka_host=kafka.example.org\n",
    "# kafka_host=192.168.10.100\n",
    "\n",
    "kafka_hostname="
   ]
  },
  {
   "attachments": {},
   "cell_type": "markdown",
   "id": "331f97b7-b727-4ffd-8711-9495d794935a",
   "metadata": {},
   "source": [
    "Kafkaブローカのポート番号を指定して下さい。"
   ]
  },
  {
   "cell_type": "code",
   "execution_count": null,
   "id": "95895d2a-6dc5-4ce6-bf2a-4d9c5e1131f8",
   "metadata": {
    "tags": []
   },
   "outputs": [],
   "source": [
    "# (例)\n",
    "# kafka_port=9092\n",
    "\n",
    "kafka_port=9092"
   ]
  },
  {
   "attachments": {},
   "cell_type": "markdown",
   "id": "8e697926-513d-4ecd-84df-47b3971a7fa5",
   "metadata": {},
   "source": [
    "カメラデータの送信先となるKafkaのトピック名を指定してください。ここで指定する値は、サーバを構築した際に指定した値と一致したものである必要があります。"
   ]
  },
  {
   "cell_type": "code",
   "execution_count": null,
   "id": "024e0797-4721-4bd2-96b6-4167dae3d6ad",
   "metadata": {
    "tags": []
   },
   "outputs": [],
   "source": [
    "# (例)\n",
    "# picamera_topic=image-sinetstream-picamera\n",
    "\n",
    "picamera_topic=image-sinetstream-picamera"
   ]
  },
  {
   "attachments": {},
   "cell_type": "markdown",
   "id": "4fa960b5-c098-477f-b1af-09a1730ed913",
   "metadata": {
    "tags": []
   },
   "source": [
    "### perftool\n",
    "\n",
    "[perftoolコマンド](https://github.com/nii-gakunin-cloud/sinetstream/tree/main/java/sample/perftool)のオプションに対応する環境変数を指定します。"
   ]
  },
  {
   "attachments": {},
   "cell_type": "markdown",
   "id": "a5b7ee52-d6e8-4647-add7-5b97aeaa56ff",
   "metadata": {},
   "source": [
    "「[perftool - オプション](https://github.com/nii-gakunin-cloud/sinetstream/tree/main/java/sample/perftool#%E3%82%AA%E3%83%97%E3%82%B7%E3%83%A7%E3%83%B3)」に記述されているオプションのうち、以下に示したものを指定することができます。\n",
    "\n",
    "* -c, --output-count OUTPUT_COUNT\n",
    "  * OUTPUT_COUNT回メトリクス情報を計測し出力する。デフォルト:1\n",
    "* -n, --num-samples NUM_SAMPLES\n",
    "  * 一回のメトリクス情報を出力するまでにwriterがNUM_SAMPLES個のデータ送信を試行する。デフォルト:300\n",
    "* -p, --payload-size PAYLOAD_SIZE\n",
    "  * データ送信試行時にPAYLOAD_SIZEバイトのペイロード長のデータを使用する。デフォルト:1024\n",
    "* -a, --async-api\n",
    "  * 指定した場合はデータの送信/受信に非同期APIを使用する。指定しなかった場合は同期APIを使用する\n",
    "* -t, --num-threads NUM_THREADS\n",
    "  * NUM_THREADS個のreader/writerのペアを並列実行する。各ペアはOUTPUT_COUNT回メトリクス情報を計測する。デフォルト:1\n",
    "\n",
    "perftoolコマンドのオプションと環境変数の対応を次表に示します。\n",
    "\n",
    "|オプション|環境変数|指定例|\n",
    "|---|---|---|\n",
    "|--output-count|EXT_ARG_OUTPUT_COUNT|EXT_ARG_OUTPUT_COUNT=1|\n",
    "|--num-samples|EXT_ARG_NUM_SAMPLES|EXT_ARG_NUM_SAMPLES=300|\n",
    "|--payload-size|EXT_ARG_PAYLOAD_SIZE|EXT_ARG_PAYLOAD_SIZE=1024|\n",
    "|--async-api|EXT_ARG_ASYNC_API|EXT_ARG_ASYNC_API=1|\n",
    "|--num-threads|EXT_ARG_NUM_THREADS|EXT_ARG_NUM_THREADS=1|\n",
    "\n",
    "次のセルで`EXTTOOL_PARAMS`に上記の環境変数を指定するステートメントを設定して下さい。"
   ]
  },
  {
   "cell_type": "code",
   "execution_count": null,
   "id": "7fa5cc20-2761-4fc5-ae5c-a435c4b6bac2",
   "metadata": {
    "tags": []
   },
   "outputs": [],
   "source": [
    "# (例)\n",
    "# EXTTOOL_PARAMS=\"\n",
    "# EXT_ARG_OUTPUT_COUNT=1\n",
    "# EXT_ARG_NUM_SAMPLES=300\n",
    "# EXT_ARG_PAYLOAD_SIZE=1024\n",
    "# EXT_ARG_NUM_THREADS=1\n",
    "# \"\n",
    "\n",
    "EXTTOOL_PARAMS=\"\n",
    "EXT_ARG_OUTPUT_COUNT=1\n",
    "EXT_ARG_NUM_SAMPLES=300\n",
    "EXT_ARG_PAYLOAD_SIZE=1024\n",
    "EXT_ARG_NUM_THREADS=1\n",
    "\""
   ]
  },
  {
   "attachments": {},
   "cell_type": "markdown",
   "id": "5d5a8128-5ab6-45fb-9ce5-0b52075eb5a0",
   "metadata": {},
   "source": [
    "### perftool計測対象\n",
    "\n",
    "perftoolコマンドの計測対象となるブローカに関するパラメータの指定を行います。"
   ]
  },
  {
   "attachments": {},
   "cell_type": "markdown",
   "id": "0ae45d69-e381-432b-bf1b-f6a3d62e6d12",
   "metadata": {},
   "source": [
    "計測対象となるブローカのホスト名（またはIPアドレス）を指定して下さい。"
   ]
  },
  {
   "cell_type": "code",
   "execution_count": null,
   "id": "d468a3b8-1350-4885-83aa-5936d65abc2e",
   "metadata": {
    "tags": []
   },
   "outputs": [],
   "source": [
    "# (例)\n",
    "# target_host=broker.example.org\n",
    "# target_host=192.168.10.100\n",
    "\n",
    "target_host="
   ]
  },
  {
   "attachments": {},
   "cell_type": "markdown",
   "id": "3993874d-1c3e-4f3f-9898-adc12c28abe1",
   "metadata": {},
   "source": [
    "ブローカのポート番号を指定して下さい。"
   ]
  },
  {
   "cell_type": "code",
   "execution_count": null,
   "id": "7faf62ef-2421-46b3-98a1-3ae076a047d9",
   "metadata": {
    "tags": []
   },
   "outputs": [],
   "source": [
    "# (例)\n",
    "# target_port=1883\n",
    "# target_port=9092\n",
    "\n",
    "target_port=1883"
   ]
  },
  {
   "attachments": {},
   "cell_type": "markdown",
   "id": "b03b11fb-cabb-413e-9178-f0b452c85224",
   "metadata": {},
   "source": [
    "計測対象のトピック名を指定して下さい。"
   ]
  },
  {
   "cell_type": "code",
   "execution_count": null,
   "id": "57abbafe-4cfe-4412-87ae-8e583128f56a",
   "metadata": {
    "tags": []
   },
   "outputs": [],
   "source": [
    "# (例)\n",
    "# target_topic=perftool-sinetstream-target\n",
    "\n",
    "target_topic=perftool-sinetstream-target"
   ]
  },
  {
   "attachments": {},
   "cell_type": "markdown",
   "id": "c35cd00e-a7bb-42ea-9b42-2dd298b09abc",
   "metadata": {},
   "source": [
    "ブローカの種別を指定して下さい。"
   ]
  },
  {
   "cell_type": "code",
   "execution_count": null,
   "id": "92a5c30d-a49a-4c11-962f-36e592bd3cba",
   "metadata": {
    "tags": []
   },
   "outputs": [],
   "source": [
    "# (例)\n",
    "# target_type=mqtt\n",
    "# target_type=kafka\n",
    "\n",
    "target_type=mqtt"
   ]
  },
  {
   "attachments": {},
   "cell_type": "markdown",
   "id": "28c1005a-d99a-449b-8fa9-e96618311ed2",
   "metadata": {},
   "source": [
    "ブローカにメッセージを送信する際の`consistency`を指定して下さい。"
   ]
  },
  {
   "cell_type": "code",
   "execution_count": null,
   "id": "d47a42e2-a0fc-46a1-98b9-9b84cb4fc9de",
   "metadata": {
    "tags": []
   },
   "outputs": [],
   "source": [
    "# (例)\n",
    "# target_type=AT_LEAST_ONCE\n",
    "# target_type=AT_MOST_ONCE\n",
    "\n",
    "target_consistency=AT_LEAST_ONCE"
   ]
  },
  {
   "attachments": {},
   "cell_type": "markdown",
   "id": "d9040104-3cd8-4604-b395-05e32b38a0d0",
   "metadata": {
    "tags": []
   },
   "source": [
    "計測対象のブローカとの通信にて、上記で指定した以外のパラメータを指定する場合は`TARGET_PARAMS`に環境変数を指定するステートメントを設定して下さい。SINETStream設定ファイルのパラメータと環境変数との変換ルールを以下に示します。\n",
    "\n",
    "* パラメータ名を全て大文字に変換する\n",
    "* プレフィックスに `PERF_TGT_` をつける\n",
    "* 複数階層をもつパラメータを指定する場合は階層の区切りに２文字のアンダースコア `__` を指定する\n",
    "\n",
    "例えばパラメータ`data_compression`を指定する場合は環境変数`PERF_TGT_DATA_COMPRESSION`に値を設定します。"
   ]
  },
  {
   "cell_type": "code",
   "execution_count": null,
   "id": "168ae810-b138-4d5c-a48a-29c4d9b4bdcc",
   "metadata": {
    "tags": []
   },
   "outputs": [],
   "source": [
    "# (例)\n",
    "# TARGET_PARAMS=\"\n",
    "# PERF_TGT_TLS=true\n",
    "# PERF_TGT_DATA_COMPRESSION=true\n",
    "# \"\n",
    "\n",
    "TARGET_PARAMS=\"\n",
    "\""
   ]
  },
  {
   "attachments": {},
   "cell_type": "markdown",
   "id": "6a47bad1-73ae-495b-9666-b5939dfe6e25",
   "metadata": {
    "tags": []
   },
   "source": [
    "### perftool結果送信先\n",
    "\n",
    "perftoolコマンドの計測結果を送信するKafkaブローカに関するパラメータの指定を行います。"
   ]
  },
  {
   "attachments": {},
   "cell_type": "markdown",
   "id": "5b3ceb9d-700f-4482-8f8d-cd893b2797e7",
   "metadata": {
    "tags": []
   },
   "source": [
    "Kafkaの外部公開ホスト名（またはIPアドレス）を指定してください。"
   ]
  },
  {
   "cell_type": "code",
   "execution_count": null,
   "id": "d26d3776-c4ae-417f-956c-9078182e194f",
   "metadata": {
    "tags": []
   },
   "outputs": [],
   "source": [
    "# (例)\n",
    "# result_host=kafka.example.org\n",
    "# result_host=192.168.10.100\n",
    "\n",
    "result_host="
   ]
  },
  {
   "attachments": {},
   "cell_type": "markdown",
   "id": "02f29d61-0d3c-4137-b014-5fe64d1254df",
   "metadata": {},
   "source": [
    "ブローカのポート番号を指定して下さい。"
   ]
  },
  {
   "cell_type": "code",
   "execution_count": null,
   "id": "c8614f99-7905-4244-b835-21f2a0721cbb",
   "metadata": {
    "tags": []
   },
   "outputs": [],
   "source": [
    "# (例)\n",
    "# result_port=9092\n",
    "\n",
    "result_port=9092"
   ]
  },
  {
   "attachments": {},
   "cell_type": "markdown",
   "id": "c6e99e93-9c85-4fbb-8dc0-22d7940988ea",
   "metadata": {},
   "source": [
    "送信先となるトピック名を指定して下さい。"
   ]
  },
  {
   "cell_type": "code",
   "execution_count": null,
   "id": "a6103448-558e-41fd-9b8b-df7a3c4e0202",
   "metadata": {
    "tags": []
   },
   "outputs": [],
   "source": [
    "# (例)\n",
    "# result_topic=perftool-sinetstream-target\n",
    "\n",
    "result_topic=perftool-sinetstream-result"
   ]
  },
  {
   "attachments": {},
   "cell_type": "markdown",
   "id": "10735353-a57b-4024-a45c-3044e954d608",
   "metadata": {
    "tags": []
   },
   "source": [
    "### perftool識別名\n",
    "\n",
    "perftoolコマンドの実行環境を識別するための名前を次のセルで指定します。ここで指定した値は、計測結果を可視化する際に表示対象を選択するために必要となります。"
   ]
  },
  {
   "cell_type": "code",
   "execution_count": null,
   "id": "473972a4-ee48-4e34-a109-3c058bd5fa9b",
   "metadata": {
    "tags": []
   },
   "outputs": [],
   "source": [
    "# (例)\n",
    "# PERF_NAME=$target_topic\n",
    "# PERF_NAME=$(hostname -f)\n",
    "# PERF_NAME=perftool-1\n",
    "\n",
    "PERF_NAME=$target_topic"
   ]
  },
  {
   "attachments": {},
   "cell_type": "markdown",
   "id": "3a6088f8-6a4f-4c4e-a91f-3ef7b4844b7f",
   "metadata": {},
   "source": [
    "## 資材の配置\n",
    "\n",
    "環境を構築するために必要となる資材を配置します。"
   ]
  },
  {
   "attachments": {},
   "cell_type": "markdown",
   "id": "b038c7a1-ca32-477a-bddc-2e7163597f12",
   "metadata": {},
   "source": [
    "資材を配置するディレクトリを作成します。"
   ]
  },
  {
   "cell_type": "code",
   "execution_count": null,
   "id": "ac27b106-d4ea-436d-9df6-a643e84b795f",
   "metadata": {
    "tags": []
   },
   "outputs": [],
   "source": [
    "mkdir -p $target_dir"
   ]
  },
  {
   "attachments": {},
   "cell_type": "markdown",
   "id": "f6bfd380-23a5-44c9-b1f8-bb2f5298e7df",
   "metadata": {},
   "source": [
    "コンテナの構成を記述した`docker-compose.yml`を配置します。"
   ]
  },
  {
   "cell_type": "code",
   "execution_count": null,
   "id": "475b10ec-8642-43b8-8143-61d47ad14477",
   "metadata": {
    "tags": []
   },
   "outputs": [],
   "source": [
    "cp ../Perftool/docker/docker-compose-picamera.yml $target_dir/docker-compose.yml"
   ]
  },
  {
   "attachments": {},
   "cell_type": "markdown",
   "id": "61a704d2-b3dd-4c7b-8d22-46bef4da97ea",
   "metadata": {},
   "source": [
    "配置した`docker-compose.yml`の内容を表示します。"
   ]
  },
  {
   "cell_type": "code",
   "execution_count": null,
   "id": "3e19ea28-b443-42b4-9c38-1d8cf14bcb28",
   "metadata": {
    "tags": []
   },
   "outputs": [],
   "source": [
    "cat $target_dir/docker-compose.yml"
   ]
  },
  {
   "attachments": {},
   "cell_type": "markdown",
   "id": "fe79faed-20bf-4fdd-9b56-6af65adacf25",
   "metadata": {},
   "source": [
    "perftoolコンテナの環境変数を設定する`.env.perftool`ファイルを作成します。"
   ]
  },
  {
   "cell_type": "code",
   "execution_count": null,
   "id": "0aaf03e6-b29c-49ba-b731-00e1c173143d",
   "metadata": {
    "tags": []
   },
   "outputs": [],
   "source": [
    "cat > $target_dir/.env.perftool <<EOF\n",
    "PERF_TGT_BROKERS=${target_host}:${target_port:-1883}\n",
    "PERF_TGT_TOPIC=${target_topic}\n",
    "PERF_TGT_TYPE=${target_type:-mqtt}\n",
    "PERF_TGT_CONSISTENCY=${target_consistency:-AT_LEAST_ONCE}\n",
    "NAME=${PERF_NAME:-$target_topic}\n",
    "${TARGET_PARAMS:-}\n",
    "EOF"
   ]
  },
  {
   "attachments": {},
   "cell_type": "markdown",
   "id": "793f29d6-cac5-4e3a-a093-0045c00b982d",
   "metadata": {},
   "source": [
    "`.env.perftool`ファイルの内容を確認します。"
   ]
  },
  {
   "cell_type": "code",
   "execution_count": null,
   "id": "c95bdcb8-231c-4127-8411-0d28c8f57c72",
   "metadata": {
    "tags": []
   },
   "outputs": [],
   "source": [
    "cat $target_dir/.env.perftool"
   ]
  },
  {
   "attachments": {},
   "cell_type": "markdown",
   "id": "9f2d926b-2e8d-4269-8408-5ce34d5c2f63",
   "metadata": {},
   "source": [
    "picameraコンテナの環境変数を設定する`.env.picamera`ファイルを作成します。"
   ]
  },
  {
   "cell_type": "code",
   "execution_count": null,
   "id": "1359f104-2048-4ee6-a76a-156c2943d617",
   "metadata": {
    "tags": []
   },
   "outputs": [],
   "source": [
    "cat > $target_dir/.env.picamera <<EOF\n",
    "${PICAMERA2_PARAMS:-}\n",
    "PICAMERA2_SIZE=${PICAMERA2_SIZE:?Image size must be set.}\n",
    "SS_BROKERS=${kafka_hostname:?The hostname of Kafka must be set.}:${kafka_port:-9092}\n",
    "SS_TOPIC=${picamera_topic:?The topic name must be set.}\n",
    "SS_CONSISTENCY=AT_LEAST_ONCE\n",
    "SCHEDULE=$SCHEDULE\n",
    "${EXTTOOL_PARAMS:-}\n",
    "EXT_SS_BROKERS=${result_host}:${result_port:-9092}\n",
    "EXT_SS_TOPIC=${result_topic}\n",
    "EXT_SS_TYPE=kafka\n",
    "EXT_SS_CONSISTENCY=AT_LEAST_ONCE\n",
    "EOF"
   ]
  },
  {
   "attachments": {},
   "cell_type": "markdown",
   "id": "5efd9cc5-90c9-4c2a-b11d-eaf09d2b4b63",
   "metadata": {},
   "source": [
    "`.env.picamera`ファイルの内容を確認します。"
   ]
  },
  {
   "cell_type": "code",
   "execution_count": null,
   "id": "13fc2e90-f94a-4fef-a605-c2f0099dfe0c",
   "metadata": {
    "tags": []
   },
   "outputs": [],
   "source": [
    "cat $target_dir/.env.picamera"
   ]
  },
  {
   "attachments": {},
   "cell_type": "markdown",
   "id": "1a179fae-1aa1-4ff5-88cc-635ec3ec6d53",
   "metadata": {},
   "source": [
    "## コンテナの起動"
   ]
  },
  {
   "attachments": {},
   "cell_type": "markdown",
   "id": "1971c6fa-d76f-465e-b30c-51d405f16066",
   "metadata": {},
   "source": [
    "利用するコンテナイメージを取得します。"
   ]
  },
  {
   "cell_type": "code",
   "execution_count": null,
   "id": "fb0004ea-6c27-4ce5-8775-a37026cf55b4",
   "metadata": {
    "tags": []
   },
   "outputs": [],
   "source": [
    "docker compose --project-directory ${target_dir} pull -q"
   ]
  },
  {
   "attachments": {},
   "cell_type": "markdown",
   "id": "97723fdd-f138-4755-b1ec-61b0c6460bd5",
   "metadata": {},
   "source": [
    "コンテナを起動します。notebook環境で`docker compose up`を実行すると処理中の表示が煩雑なため、次のセルでは全ての出力結果を破棄しています。エラーや警告表示を確認する必要がある場合はnotebook環境ではなく、別窓でターミナルなどを開いて`docker compose up`コマンドを実行して下さい。"
   ]
  },
  {
   "cell_type": "code",
   "execution_count": null,
   "id": "af08eeaa-dd2f-444c-90c0-460dacffc8f3",
   "metadata": {
    "tags": []
   },
   "outputs": [],
   "source": [
    "docker compose --project-directory ${target_dir} up -d --remove-orphans >& /dev/null"
   ]
  },
  {
   "attachments": {},
   "cell_type": "markdown",
   "id": "a3a5ed5f-e3a9-48d3-8b4b-4d050243dadb",
   "metadata": {},
   "source": [
    "コンテナの実行状況を確認します。コンテナのSTATUSがUpとなっていることを確認して下さい。"
   ]
  },
  {
   "cell_type": "code",
   "execution_count": null,
   "id": "7407f49e-05a2-498d-b3f9-fb124803b924",
   "metadata": {
    "tags": []
   },
   "outputs": [],
   "source": [
    "docker compose --project-directory ${target_dir} ps"
   ]
  }
 ],
 "metadata": {
  "kernelspec": {
   "display_name": "Bash",
   "language": "bash",
   "name": "bash"
  },
  "language_info": {
   "codemirror_mode": "shell",
   "file_extension": ".sh",
   "mimetype": "text/x-sh",
   "name": "bash"
  },
  "toc-autonumbering": true,
  "toc-showcode": false,
  "toc-showmarkdowntxt": false
 },
 "nbformat": 4,
 "nbformat_minor": 5
}
