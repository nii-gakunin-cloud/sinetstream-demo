{
 "cells": [
  {
   "attachments": {},
   "cell_type": "markdown",
   "id": "b8a3cdfb-9e32-4ecc-808e-0e158d396fb6",
   "metadata": {},
   "source": [
    "# Raspberry Pi Cameraのデータをサーバに送信する"
   ]
  },
  {
   "attachments": {},
   "cell_type": "markdown",
   "id": "db347ac3-5b54-4ae8-bac5-bdc1bbdaa19d",
   "metadata": {},
   "source": [
    "## 概要"
   ]
  },
  {
   "attachments": {},
   "cell_type": "markdown",
   "id": "b5df9e64-757c-49bf-8736-c9908bbc8250",
   "metadata": {},
   "source": [
    "### システム構成\n",
    "\n",
    "システム構成を次図に示します。`Raspberry Pi`で示された枠内がこのnotebookで構築する対象になります。"
   ]
  },
  {
   "attachments": {},
   "cell_type": "markdown",
   "id": "9b80c5be-3e3d-4190-856b-cd581afd2ba4",
   "metadata": {},
   "source": [
    "![システム構成](img/12-components.png)\n",
    "<!--\n",
    "```mermaid\n",
    "flowchart LR\n",
    "  subgraph S1[server]\n",
    "    subgraph K[\"Apache Kafka\"]\n",
    "      TI([\"camera topic\"])\n",
    "    end\n",
    "  end\n",
    "  subgraph R[\"Raspberry Pi\"]\n",
    "    C([\"Camera\"])\n",
    "    CC[\"sensor-picamera\\nContainer\"]\n",
    "    C---CC==>TI\n",
    "  end\n",
    "```\n",
    "-->\n",
    "\n",
    "sensor-picameraコンテナはRaspberry Piに接続されたカメラの画像を取得して、そのデータをKafkaブローカに送信します。"
   ]
  },
  {
   "attachments": {},
   "cell_type": "markdown",
   "id": "7c0e2962-15ed-4f83-a864-078a1107d08a",
   "metadata": {},
   "source": [
    "### 前提条件\n",
    "\n",
    "環境を構築、実行するために必要となる前提条件を示します。\n",
    "\n",
    "* Raspberry Pi OS\n",
    "* [Raspberry Pi カメラモジュール](https://www.raspberrypi.com/documentation/accessories/camera.html)\n",
    "  * USBカメラはサポート対象外になります\n",
    "* docker, docker compose v2\n",
    "  * カメラ画像を送信するコンテナを実行するために必要となリます"
   ]
  },
  {
   "attachments": {},
   "cell_type": "markdown",
   "id": "e2998840-1ce4-4ab0-98f1-d3652d786442",
   "metadata": {},
   "source": [
    "前提条件に関する簡単なチェックを行います。"
   ]
  },
  {
   "attachments": {},
   "cell_type": "markdown",
   "id": "2452c962-b3a8-4256-b3a3-f1937ada4883",
   "metadata": {},
   "source": [
    "構築環境のOSをチェックします。次のセルを実行してエラーにならないことを確認して下さい。"
   ]
  },
  {
   "cell_type": "code",
   "execution_count": null,
   "id": "1104e248-e870-47be-bb69-0f1ef6e20e11",
   "metadata": {
    "tags": []
   },
   "outputs": [],
   "source": [
    "lsb_release -d | grep -e 'Debian GNU/Linux 12 (bookworm)'"
   ]
  },
  {
   "attachments": {},
   "cell_type": "markdown",
   "id": "46ca909e-605f-4607-9961-dc214f34e8ff",
   "metadata": {},
   "source": [
    "docker, docker composeが利用可能になっていることを確認します。"
   ]
  },
  {
   "cell_type": "code",
   "execution_count": null,
   "id": "b112935c-1ba2-4d98-b9b3-e5a6c6988874",
   "metadata": {
    "tags": []
   },
   "outputs": [],
   "source": [
    "docker version"
   ]
  },
  {
   "cell_type": "code",
   "execution_count": null,
   "id": "af91e2ae-be41-43e7-abf2-373142721fba",
   "metadata": {
    "tags": []
   },
   "outputs": [],
   "source": [
    "docker compose version"
   ]
  },
  {
   "attachments": {},
   "cell_type": "markdown",
   "id": "e9385f67-d7ef-4cf0-a52b-1bf37bd52562",
   "metadata": {},
   "source": [
    "## パラメータの指定"
   ]
  },
  {
   "attachments": {},
   "cell_type": "markdown",
   "id": "18e81aa5-e3ec-4807-b522-d567858960c5",
   "metadata": {},
   "source": [
    "### 配置場所 \n",
    "\n",
    "環境を構築するために必要となる資材を配置するディレクトリを次のセルに指定してください。"
   ]
  },
  {
   "cell_type": "code",
   "execution_count": null,
   "id": "bef770a7-82b1-48a4-b543-7a299174a619",
   "metadata": {
    "tags": []
   },
   "outputs": [],
   "source": [
    "# (例)\n",
    "# target_dir=$HOME/picamera\n",
    "# target_dir=/srv/picamera\n",
    "\n",
    "target_dir="
   ]
  },
  {
   "attachments": {},
   "cell_type": "markdown",
   "id": "1d455d19-9663-40c8-b555-45f54f26f7e0",
   "metadata": {},
   "source": [
    "###　picamera\n",
    "\n",
    "カメラデータを送信するコンテナsensor-picameraではRaspberry Piカメラでの撮影に[Picamera2](https://github.com/raspberrypi/picamera2)を利用します。ここではPicamera2に設定するパラメータを指定します。"
   ]
  },
  {
   "attachments": {},
   "cell_type": "markdown",
   "id": "58fb2a22-d768-4308-bdd7-bf11dfa908fa",
   "metadata": {},
   "source": [
    "カメラの画像サイズを指定します。画像の幅と高さを(width)x(height)で指定することができます。また典型的なサイズについては文字列で指定することもできます。\n",
    "\n",
    "* QVGA\n",
    "  * 320x240\n",
    "* VGA\n",
    "  * 640x480\n",
    "* HD\n",
    "  * 1280x720\n",
    "* FHD, 2K\n",
    "  * 1920x1080\n",
    "* 4K\n",
    "  * 3840x2160"
   ]
  },
  {
   "cell_type": "code",
   "execution_count": null,
   "id": "5eb6a20c-3082-4f4a-9a26-85dd3e0b7c1a",
   "metadata": {
    "tags": []
   },
   "outputs": [],
   "source": [
    "# (例)\n",
    "# PICAMERA2_SIZE=320x240\n",
    "# PICAMERA2_SIZE=VGA\n",
    "# PICAMERA2_SIZE=640x480\n",
    "# PICAMERA2_SIZE=FHD\n",
    "\n",
    "PICAMERA2_SIZE="
   ]
  },
  {
   "attachments": {},
   "cell_type": "markdown",
   "id": "f6b69c9c-f301-4925-b944-bb714c9634e4",
   "metadata": {},
   "source": [
    "> `4K`などの大きなサイズの画像を指定する場合は、追加で最大メッセージサイズなどの設定を変更する必要があります。"
   ]
  },
  {
   "attachments": {},
   "cell_type": "markdown",
   "id": "21953444-621b-43f3-8dca-8f20f30d82ac",
   "metadata": {},
   "source": [
    "画像サイズ以外のPicamera2のパラメータに関してもコンテナの環境変数により設定することができます。指定する環境変数名はPicamera2のコンフィギュレーションパラメータを以下のルールで変換したものになります。\n",
    "\n",
    "* 全て大文字に変換する\n",
    "* プレフィックスに `PICAMERA2_` をつける\n",
    "* パラメータ名をプレフィックスの後に続ける\n",
    "  * 例えばcolour_spaceに対応する環境変数名は`PICAMERA2_COLOUR_SPACE`になる\n",
    "* stream-specific configurationパラメータはプレフィックスの後にパラメータ名を_でつなげる\n",
    "  * 例えばsizeに対応する環境変数名は`PICAMERA2_SIZE`になる\n",
    "* camera controlsのように子要素があるパラメータは、パラメータ名の後に_でつなげる\n",
    "* またcontrol名のように大文字、小文字が混在している場合は大文字の箇所を_で区切る\n",
    "  * 例えばcontrol名AwbModeに対応する環境変数名は`PICAMERA2_CONTROLS_AWB_MODE`になる\n",
    "  \n",
    "環境変数の設定例を次の表に示します。\n",
    "\n",
    "|環境変数名|説明|設定例|\n",
    "|---|---|---|\n",
    "|PICAMERA2_TRANSFORM_HFLIP|水平反転|PICAMERA2_TRANSFORM_HFLIP=1|\n",
    "|PICAMERA2_TRANSFORM_VFLIP|垂直反転|PICAMERA2_TRANSFORM_VFLIP=1|\n",
    "|PICAMERA2_BUFFER_COUNT|バッファセット数|PICAMERA2_BUFFER_COUNT=2|\n",
    "|PICAMERA2_CONTROLS_FRAME_RATE|フレームレート|PICAMERA2_CONTROLS_FRAME_RATE=5|\n",
    "|PICAMERA2_CONTROLS_AF_MODE|オートフォーカス|PICAMERA2_CONTROLS_AF_MODE=Continuous|\n",
    "|PICAMERA2_CONTROLS_AWB_MODE|ホワイトバランス|PICAMERA2_CONTROLS_AWB_MODE=Tungsten|\n"
   ]
  },
  {
   "attachments": {},
   "cell_type": "markdown",
   "id": "c27daac6-a5c9-4817-9912-956470619418",
   "metadata": {},
   "source": [
    "画像サイズ以外のpicamera2パラメータを設定する場合は次のセルで指定して下さい。"
   ]
  },
  {
   "cell_type": "code",
   "execution_count": null,
   "id": "adf7f5b7-b84c-4ef0-b42c-82057e4f1230",
   "metadata": {
    "tags": []
   },
   "outputs": [],
   "source": [
    "# (例)\n",
    "# PICAMERA2_PARAMS=\"\n",
    "# PICAMERA2_TRANSFORM_HFLIP=1\n",
    "# PICAMERA2_TRANSFORM_VFLIP=1\n",
    "# \"\n",
    "\n",
    "PICAMERA2_PARAMS=\"\n",
    "\""
   ]
  },
  {
   "attachments": {},
   "cell_type": "markdown",
   "id": "3e6a0d81-3789-4efd-bb80-1b79a9645b20",
   "metadata": {},
   "source": [
    "### 撮影間隔\n",
    "\n",
    "カメラ画像を取得する時間間隔（秒）を環境変数`SCHEDULE`に指定して下さい。"
   ]
  },
  {
   "cell_type": "code",
   "execution_count": null,
   "id": "02e6f50d-221e-4bde-900a-8991ded1a0b8",
   "metadata": {
    "tags": []
   },
   "outputs": [],
   "source": [
    "# (例)\n",
    "# SCHEDULE=60\n",
    "\n",
    "SCHEDULE=60"
   ]
  },
  {
   "attachments": {},
   "cell_type": "markdown",
   "id": "993fcf3c-d0fb-4605-a3f3-533235a83354",
   "metadata": {},
   "source": [
    "`SCHEDULE`を指定しない場合は可能な限り連続的に画像を送信し続けます。"
   ]
  },
  {
   "attachments": {},
   "cell_type": "markdown",
   "id": "4db0e454-67a1-4ef8-965d-bdb000d53d88",
   "metadata": {},
   "source": [
    "### Kafka\n",
    "\n",
    "カメラデータの送信先となるKafkaブローカに関するパラメータを指定します。"
   ]
  },
  {
   "attachments": {},
   "cell_type": "markdown",
   "id": "e5cad09e-fe2d-4416-b2a2-dc0aba648171",
   "metadata": {},
   "source": [
    "Kafkaの外部公開ホスト名を指定してください。Raspberry PiからKafkaブローカにアクセスするときは、ここで指定したホスト名（またはIPアドレス）でアクセス出来るように設定する必要があります。"
   ]
  },
  {
   "cell_type": "code",
   "execution_count": null,
   "id": "b680e639-169c-45d6-9df5-32be31cf4afa",
   "metadata": {
    "tags": []
   },
   "outputs": [],
   "source": [
    "# (例)\n",
    "# kafka_host=kafka.example.org\n",
    "# kafka_host=192.168.10.100\n",
    "\n",
    "kafka_hostname="
   ]
  },
  {
   "attachments": {},
   "cell_type": "markdown",
   "id": "331f97b7-b727-4ffd-8711-9495d794935a",
   "metadata": {},
   "source": [
    "Kafkaブローカのポート番号を指定して下さい。"
   ]
  },
  {
   "cell_type": "code",
   "execution_count": null,
   "id": "95895d2a-6dc5-4ce6-bf2a-4d9c5e1131f8",
   "metadata": {
    "tags": []
   },
   "outputs": [],
   "source": [
    "# (例)\n",
    "# kafka_port=9092\n",
    "\n",
    "kafka_port=9092"
   ]
  },
  {
   "attachments": {},
   "cell_type": "markdown",
   "id": "8e697926-513d-4ecd-84df-47b3971a7fa5",
   "metadata": {},
   "source": [
    "カメラデータの送信先となるKafkaのトピック名を指定してください。ここで指定する値は、サーバを構築した際に指定した値と一致したものである必要があります。"
   ]
  },
  {
   "cell_type": "code",
   "execution_count": null,
   "id": "024e0797-4721-4bd2-96b6-4167dae3d6ad",
   "metadata": {
    "tags": []
   },
   "outputs": [],
   "source": [
    "# (例)\n",
    "# picamera_topic=image-sinetstream-picamera\n",
    "\n",
    "picamera_topic=image-sinetstream-picamera"
   ]
  },
  {
   "attachments": {},
   "cell_type": "markdown",
   "id": "3a6088f8-6a4f-4c4e-a91f-3ef7b4844b7f",
   "metadata": {},
   "source": [
    "## 資材の配置\n",
    "\n",
    "環境を構築するために必要となる資材を配置します。"
   ]
  },
  {
   "attachments": {},
   "cell_type": "markdown",
   "id": "b038c7a1-ca32-477a-bddc-2e7163597f12",
   "metadata": {},
   "source": [
    "資材を配置するディレクトリを作成します。"
   ]
  },
  {
   "cell_type": "code",
   "execution_count": null,
   "id": "ac27b106-d4ea-436d-9df6-a643e84b795f",
   "metadata": {
    "tags": []
   },
   "outputs": [],
   "source": [
    "mkdir -p $target_dir"
   ]
  },
  {
   "attachments": {},
   "cell_type": "markdown",
   "id": "f6bfd380-23a5-44c9-b1f8-bb2f5298e7df",
   "metadata": {},
   "source": [
    "コンテナの構成を記述した`docker-compose.yml`を配置します。"
   ]
  },
  {
   "cell_type": "code",
   "execution_count": null,
   "id": "475b10ec-8642-43b8-8143-61d47ad14477",
   "metadata": {
    "tags": []
   },
   "outputs": [],
   "source": [
    "cp docker/docker-compose.yml $target_dir/docker-compose.yml"
   ]
  },
  {
   "attachments": {},
   "cell_type": "markdown",
   "id": "ddb9790c-8f3b-43fa-9faf-8f99921f83c7",
   "metadata": {},
   "source": [
    "配置した`docker-compose.yml`の内容を表示します。"
   ]
  },
  {
   "cell_type": "code",
   "execution_count": null,
   "id": "a843fdef-2fb2-4b28-9f83-b50cbb818d56",
   "metadata": {},
   "outputs": [],
   "source": [
    "cat $target_dir/docker-compose.yml"
   ]
  },
  {
   "attachments": {},
   "cell_type": "markdown",
   "id": "fe79faed-20bf-4fdd-9b56-6af65adacf25",
   "metadata": {},
   "source": [
    "コンテナの環境変数を設定する`.env`ファイルを作成します。"
   ]
  },
  {
   "cell_type": "code",
   "execution_count": null,
   "id": "0aaf03e6-b29c-49ba-b731-00e1c173143d",
   "metadata": {
    "tags": []
   },
   "outputs": [],
   "source": [
    "cat > $target_dir/.env <<EOF\n",
    "PICAMERA2_SIZE=${PICAMERA2_SIZE:?Image size must be set.}\n",
    "${PICAMERA2_PARAMS:-}\n",
    "SS_BROKERS=${kafka_hostname:?The hostname of Kafka must be set.}:${kafka_port:-9092}\n",
    "SS_TOPIC=${picamera_topic:?The topic name must be set.}\n",
    "SS_CONSISTENCY=AT_LEAST_ONCE\n",
    "EOF"
   ]
  },
  {
   "cell_type": "code",
   "execution_count": null,
   "id": "b3872d6c-d80a-4658-aa71-9544bfd7a666",
   "metadata": {
    "tags": []
   },
   "outputs": [],
   "source": [
    "if [ -n \"$SCHEDULE\" ]; then\n",
    "cat >> $target_dir/.env <<EOF\n",
    "SCHEDULE=$SCHEDULE\n",
    "EOF\n",
    "fi"
   ]
  },
  {
   "attachments": {},
   "cell_type": "markdown",
   "id": "793f29d6-cac5-4e3a-a093-0045c00b982d",
   "metadata": {},
   "source": [
    "`.env`ファイルの内容を確認します。"
   ]
  },
  {
   "cell_type": "code",
   "execution_count": null,
   "id": "c95bdcb8-231c-4127-8411-0d28c8f57c72",
   "metadata": {
    "tags": []
   },
   "outputs": [],
   "source": [
    "cat $target_dir/.env"
   ]
  },
  {
   "attachments": {},
   "cell_type": "markdown",
   "id": "1a179fae-1aa1-4ff5-88cc-635ec3ec6d53",
   "metadata": {},
   "source": [
    "## コンテナの起動"
   ]
  },
  {
   "attachments": {},
   "cell_type": "markdown",
   "id": "1971c6fa-d76f-465e-b30c-51d405f16066",
   "metadata": {},
   "source": [
    "利用するコンテナイメージを取得します。"
   ]
  },
  {
   "cell_type": "code",
   "execution_count": null,
   "id": "fb0004ea-6c27-4ce5-8775-a37026cf55b4",
   "metadata": {
    "tags": []
   },
   "outputs": [],
   "source": [
    "docker compose --project-directory ${target_dir} pull -q"
   ]
  },
  {
   "attachments": {},
   "cell_type": "markdown",
   "id": "97723fdd-f138-4755-b1ec-61b0c6460bd5",
   "metadata": {},
   "source": [
    "コンテナを起動します。notebook環境で`docker compose up`を実行すると処理中の表示が煩雑なため、次のセルでは全ての出力結果を破棄しています。エラーや警告表示を確認する必要がある場合はnotebook環境ではなく、別窓でターミナルなどを開いて`docker compose up`コマンドを実行して下さい。"
   ]
  },
  {
   "cell_type": "code",
   "execution_count": null,
   "id": "af08eeaa-dd2f-444c-90c0-460dacffc8f3",
   "metadata": {
    "tags": []
   },
   "outputs": [],
   "source": [
    "docker compose --project-directory ${target_dir} up -d --remove-orphans >& /dev/null"
   ]
  },
  {
   "attachments": {},
   "cell_type": "markdown",
   "id": "a3a5ed5f-e3a9-48d3-8b4b-4d050243dadb",
   "metadata": {},
   "source": [
    "コンテナの実行状況を確認します。コンテナのSTATUSがUpとなっていることを確認して下さい。"
   ]
  },
  {
   "cell_type": "code",
   "execution_count": null,
   "id": "7407f49e-05a2-498d-b3f9-fb124803b924",
   "metadata": {
    "tags": []
   },
   "outputs": [],
   "source": [
    "docker compose --project-directory ${target_dir} ps"
   ]
  }
 ],
 "metadata": {
  "kernelspec": {
   "display_name": "Bash",
   "language": "bash",
   "name": "bash"
  },
  "language_info": {
   "codemirror_mode": "shell",
   "file_extension": ".sh",
   "mimetype": "text/x-sh",
   "name": "bash"
  },
  "toc-autonumbering": true,
  "toc-showcode": false,
  "toc-showmarkdowntxt": false
 },
 "nbformat": 4,
 "nbformat_minor": 5
}
